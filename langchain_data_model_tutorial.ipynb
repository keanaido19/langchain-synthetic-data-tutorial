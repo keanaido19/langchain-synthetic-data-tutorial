{
 "cells": [
  {
   "metadata": {
    "ExecuteTime": {
     "end_time": "2025-08-10T12:33:05.611416Z",
     "start_time": "2025-08-10T12:32:48.867650Z"
    }
   },
   "cell_type": "code",
   "source": "!pip install langchain==0.1.19",
   "id": "fbc121e30a2defb3",
   "outputs": [
    {
     "name": "stdout",
     "output_type": "stream",
     "text": [
      "Collecting langchain==0.1.19\n",
      "  Downloading langchain-0.1.19-py3-none-any.whl.metadata (13 kB)\n",
      "Requirement already satisfied: PyYAML>=5.3 in c:\\users\\keaton naidoo\\pycharmprojects\\langchain-data-model-tutorial\\.venv\\lib\\site-packages (from langchain==0.1.19) (6.0.2)\n",
      "Collecting SQLAlchemy<3,>=1.4 (from langchain==0.1.19)\n",
      "  Using cached sqlalchemy-2.0.42-cp313-cp313-win_amd64.whl.metadata (9.8 kB)\n",
      "Collecting aiohttp<4.0.0,>=3.8.3 (from langchain==0.1.19)\n",
      "  Using cached aiohttp-3.12.15-cp313-cp313-win_amd64.whl.metadata (7.9 kB)\n",
      "Collecting dataclasses-json<0.7,>=0.5.7 (from langchain==0.1.19)\n",
      "  Using cached dataclasses_json-0.6.7-py3-none-any.whl.metadata (25 kB)\n",
      "Collecting langchain-community<0.1,>=0.0.38 (from langchain==0.1.19)\n",
      "  Using cached langchain_community-0.0.38-py3-none-any.whl.metadata (8.7 kB)\n",
      "Collecting langchain-core<0.2.0,>=0.1.52 (from langchain==0.1.19)\n",
      "  Using cached langchain_core-0.1.53-py3-none-any.whl.metadata (5.9 kB)\n",
      "Collecting langchain-text-splitters<0.1,>=0.0.1 (from langchain==0.1.19)\n",
      "  Using cached langchain_text_splitters-0.0.2-py3-none-any.whl.metadata (2.2 kB)\n",
      "Collecting langsmith<0.2.0,>=0.1.17 (from langchain==0.1.19)\n",
      "  Using cached langsmith-0.1.147-py3-none-any.whl.metadata (14 kB)\n",
      "Collecting numpy<2,>=1 (from langchain==0.1.19)\n",
      "  Using cached numpy-1.26.4-cp313-cp313-win_amd64.whl\n",
      "Collecting pydantic<3,>=1 (from langchain==0.1.19)\n",
      "  Using cached pydantic-2.11.7-py3-none-any.whl.metadata (67 kB)\n",
      "Requirement already satisfied: requests<3,>=2 in c:\\users\\keaton naidoo\\pycharmprojects\\langchain-data-model-tutorial\\.venv\\lib\\site-packages (from langchain==0.1.19) (2.32.4)\n",
      "Collecting tenacity<9.0.0,>=8.1.0 (from langchain==0.1.19)\n",
      "  Using cached tenacity-8.5.0-py3-none-any.whl.metadata (1.2 kB)\n",
      "Collecting aiohappyeyeballs>=2.5.0 (from aiohttp<4.0.0,>=3.8.3->langchain==0.1.19)\n",
      "  Using cached aiohappyeyeballs-2.6.1-py3-none-any.whl.metadata (5.9 kB)\n",
      "Collecting aiosignal>=1.4.0 (from aiohttp<4.0.0,>=3.8.3->langchain==0.1.19)\n",
      "  Using cached aiosignal-1.4.0-py3-none-any.whl.metadata (3.7 kB)\n",
      "Requirement already satisfied: attrs>=17.3.0 in c:\\users\\keaton naidoo\\pycharmprojects\\langchain-data-model-tutorial\\.venv\\lib\\site-packages (from aiohttp<4.0.0,>=3.8.3->langchain==0.1.19) (25.3.0)\n",
      "Collecting frozenlist>=1.1.1 (from aiohttp<4.0.0,>=3.8.3->langchain==0.1.19)\n",
      "  Using cached frozenlist-1.7.0-cp313-cp313-win_amd64.whl.metadata (19 kB)\n",
      "Collecting multidict<7.0,>=4.5 (from aiohttp<4.0.0,>=3.8.3->langchain==0.1.19)\n",
      "  Using cached multidict-6.6.3-cp313-cp313-win_amd64.whl.metadata (5.4 kB)\n",
      "Collecting propcache>=0.2.0 (from aiohttp<4.0.0,>=3.8.3->langchain==0.1.19)\n",
      "  Using cached propcache-0.3.2-cp313-cp313-win_amd64.whl.metadata (12 kB)\n",
      "Collecting yarl<2.0,>=1.17.0 (from aiohttp<4.0.0,>=3.8.3->langchain==0.1.19)\n",
      "  Using cached yarl-1.20.1-cp313-cp313-win_amd64.whl.metadata (76 kB)\n",
      "Collecting marshmallow<4.0.0,>=3.18.0 (from dataclasses-json<0.7,>=0.5.7->langchain==0.1.19)\n",
      "  Using cached marshmallow-3.26.1-py3-none-any.whl.metadata (7.3 kB)\n",
      "Collecting typing-inspect<1,>=0.4.0 (from dataclasses-json<0.7,>=0.5.7->langchain==0.1.19)\n",
      "  Using cached typing_inspect-0.9.0-py3-none-any.whl.metadata (1.5 kB)\n",
      "Collecting jsonpatch<2.0,>=1.33 (from langchain-core<0.2.0,>=0.1.52->langchain==0.1.19)\n",
      "  Using cached jsonpatch-1.33-py2.py3-none-any.whl.metadata (3.0 kB)\n",
      "Collecting packaging<24.0,>=23.2 (from langchain-core<0.2.0,>=0.1.52->langchain==0.1.19)\n",
      "  Using cached packaging-23.2-py3-none-any.whl.metadata (3.2 kB)\n",
      "Requirement already satisfied: jsonpointer>=1.9 in c:\\users\\keaton naidoo\\pycharmprojects\\langchain-data-model-tutorial\\.venv\\lib\\site-packages (from jsonpatch<2.0,>=1.33->langchain-core<0.2.0,>=0.1.52->langchain==0.1.19) (3.0.0)\n",
      "Requirement already satisfied: httpx<1,>=0.23.0 in c:\\users\\keaton naidoo\\pycharmprojects\\langchain-data-model-tutorial\\.venv\\lib\\site-packages (from langsmith<0.2.0,>=0.1.17->langchain==0.1.19) (0.28.1)\n",
      "Collecting orjson<4.0.0,>=3.9.14 (from langsmith<0.2.0,>=0.1.17->langchain==0.1.19)\n",
      "  Using cached orjson-3.11.1-cp313-cp313-win_amd64.whl.metadata (43 kB)\n",
      "Collecting requests-toolbelt<2.0.0,>=1.0.0 (from langsmith<0.2.0,>=0.1.17->langchain==0.1.19)\n",
      "  Using cached requests_toolbelt-1.0.0-py2.py3-none-any.whl.metadata (14 kB)\n",
      "Requirement already satisfied: anyio in c:\\users\\keaton naidoo\\pycharmprojects\\langchain-data-model-tutorial\\.venv\\lib\\site-packages (from httpx<1,>=0.23.0->langsmith<0.2.0,>=0.1.17->langchain==0.1.19) (4.10.0)\n",
      "Requirement already satisfied: certifi in c:\\users\\keaton naidoo\\pycharmprojects\\langchain-data-model-tutorial\\.venv\\lib\\site-packages (from httpx<1,>=0.23.0->langsmith<0.2.0,>=0.1.17->langchain==0.1.19) (2025.8.3)\n",
      "Requirement already satisfied: httpcore==1.* in c:\\users\\keaton naidoo\\pycharmprojects\\langchain-data-model-tutorial\\.venv\\lib\\site-packages (from httpx<1,>=0.23.0->langsmith<0.2.0,>=0.1.17->langchain==0.1.19) (1.0.9)\n",
      "Requirement already satisfied: idna in c:\\users\\keaton naidoo\\pycharmprojects\\langchain-data-model-tutorial\\.venv\\lib\\site-packages (from httpx<1,>=0.23.0->langsmith<0.2.0,>=0.1.17->langchain==0.1.19) (3.10)\n",
      "Requirement already satisfied: h11>=0.16 in c:\\users\\keaton naidoo\\pycharmprojects\\langchain-data-model-tutorial\\.venv\\lib\\site-packages (from httpcore==1.*->httpx<1,>=0.23.0->langsmith<0.2.0,>=0.1.17->langchain==0.1.19) (0.16.0)\n",
      "Collecting annotated-types>=0.6.0 (from pydantic<3,>=1->langchain==0.1.19)\n",
      "  Using cached annotated_types-0.7.0-py3-none-any.whl.metadata (15 kB)\n",
      "Collecting pydantic-core==2.33.2 (from pydantic<3,>=1->langchain==0.1.19)\n",
      "  Using cached pydantic_core-2.33.2-cp313-cp313-win_amd64.whl.metadata (6.9 kB)\n",
      "Requirement already satisfied: typing-extensions>=4.12.2 in c:\\users\\keaton naidoo\\pycharmprojects\\langchain-data-model-tutorial\\.venv\\lib\\site-packages (from pydantic<3,>=1->langchain==0.1.19) (4.14.1)\n",
      "Collecting typing-inspection>=0.4.0 (from pydantic<3,>=1->langchain==0.1.19)\n",
      "  Using cached typing_inspection-0.4.1-py3-none-any.whl.metadata (2.6 kB)\n",
      "Requirement already satisfied: charset_normalizer<4,>=2 in c:\\users\\keaton naidoo\\pycharmprojects\\langchain-data-model-tutorial\\.venv\\lib\\site-packages (from requests<3,>=2->langchain==0.1.19) (3.4.3)\n",
      "Requirement already satisfied: urllib3<3,>=1.21.1 in c:\\users\\keaton naidoo\\pycharmprojects\\langchain-data-model-tutorial\\.venv\\lib\\site-packages (from requests<3,>=2->langchain==0.1.19) (2.5.0)\n",
      "Collecting greenlet>=1 (from SQLAlchemy<3,>=1.4->langchain==0.1.19)\n",
      "  Using cached greenlet-3.2.4-cp313-cp313-win_amd64.whl.metadata (4.2 kB)\n",
      "Collecting mypy-extensions>=0.3.0 (from typing-inspect<1,>=0.4.0->dataclasses-json<0.7,>=0.5.7->langchain==0.1.19)\n",
      "  Using cached mypy_extensions-1.1.0-py3-none-any.whl.metadata (1.1 kB)\n",
      "Requirement already satisfied: sniffio>=1.1 in c:\\users\\keaton naidoo\\pycharmprojects\\langchain-data-model-tutorial\\.venv\\lib\\site-packages (from anyio->httpx<1,>=0.23.0->langsmith<0.2.0,>=0.1.17->langchain==0.1.19) (1.3.1)\n",
      "Downloading langchain-0.1.19-py3-none-any.whl (1.0 MB)\n",
      "   ---------------------------------------- 0.0/1.0 MB ? eta -:--:--\n",
      "   -------------------- ------------------- 0.5/1.0 MB 2.7 MB/s eta 0:00:01\n",
      "   ---------------------------------------- 1.0/1.0 MB 2.7 MB/s  0:00:00\n",
      "Using cached aiohttp-3.12.15-cp313-cp313-win_amd64.whl (449 kB)\n",
      "Using cached dataclasses_json-0.6.7-py3-none-any.whl (28 kB)\n",
      "Using cached langchain_community-0.0.38-py3-none-any.whl (2.0 MB)\n",
      "Using cached langchain_core-0.1.53-py3-none-any.whl (303 kB)\n",
      "Using cached jsonpatch-1.33-py2.py3-none-any.whl (12 kB)\n",
      "Using cached langchain_text_splitters-0.0.2-py3-none-any.whl (23 kB)\n",
      "Using cached langsmith-0.1.147-py3-none-any.whl (311 kB)\n",
      "Using cached marshmallow-3.26.1-py3-none-any.whl (50 kB)\n",
      "Using cached multidict-6.6.3-cp313-cp313-win_amd64.whl (45 kB)\n",
      "Using cached orjson-3.11.1-cp313-cp313-win_amd64.whl (131 kB)\n",
      "Using cached packaging-23.2-py3-none-any.whl (53 kB)\n",
      "Using cached pydantic-2.11.7-py3-none-any.whl (444 kB)\n",
      "Using cached pydantic_core-2.33.2-cp313-cp313-win_amd64.whl (2.0 MB)\n",
      "Using cached requests_toolbelt-1.0.0-py2.py3-none-any.whl (54 kB)\n",
      "Using cached sqlalchemy-2.0.42-cp313-cp313-win_amd64.whl (2.1 MB)\n",
      "Using cached tenacity-8.5.0-py3-none-any.whl (28 kB)\n",
      "Using cached typing_inspect-0.9.0-py3-none-any.whl (8.8 kB)\n",
      "Using cached yarl-1.20.1-cp313-cp313-win_amd64.whl (86 kB)\n",
      "Using cached aiohappyeyeballs-2.6.1-py3-none-any.whl (15 kB)\n",
      "Using cached aiosignal-1.4.0-py3-none-any.whl (7.5 kB)\n",
      "Using cached annotated_types-0.7.0-py3-none-any.whl (13 kB)\n",
      "Using cached frozenlist-1.7.0-cp313-cp313-win_amd64.whl (43 kB)\n",
      "Using cached greenlet-3.2.4-cp313-cp313-win_amd64.whl (299 kB)\n",
      "Using cached mypy_extensions-1.1.0-py3-none-any.whl (5.0 kB)\n",
      "Using cached propcache-0.3.2-cp313-cp313-win_amd64.whl (40 kB)\n",
      "Using cached typing_inspection-0.4.1-py3-none-any.whl (14 kB)\n",
      "Installing collected packages: typing-inspection, tenacity, pydantic-core, propcache, packaging, orjson, numpy, mypy-extensions, multidict, jsonpatch, greenlet, frozenlist, annotated-types, aiohappyeyeballs, yarl, typing-inspect, SQLAlchemy, requests-toolbelt, pydantic, marshmallow, aiosignal, langsmith, dataclasses-json, aiohttp, langchain-core, langchain-text-splitters, langchain-community, langchain\n",
      "\n",
      "  Attempting uninstall: packaging\n",
      "\n",
      "    Found existing installation: packaging 25.0\n",
      "\n",
      "    Uninstalling packaging-25.0:\n",
      "\n",
      "      Successfully uninstalled packaging-25.0\n",
      "\n",
      "   ------- --------------------------------  5/28 [orjson]\n",
      "  Attempting uninstall: numpy\n",
      "   ------- --------------------------------  5/28 [orjson]\n",
      "    Found existing installation: numpy 2.3.2\n",
      "   ------- --------------------------------  5/28 [orjson]\n",
      "    Uninstalling numpy-2.3.2:\n",
      "   ------- --------------------------------  5/28 [orjson]\n",
      "   -------- -------------------------------  6/28 [numpy]\n",
      "      Successfully uninstalled numpy-2.3.2\n",
      "   -------- -------------------------------  6/28 [numpy]\n",
      "   -------- -------------------------------  6/28 [numpy]\n",
      "   -------- -------------------------------  6/28 [numpy]\n",
      "   -------- -------------------------------  6/28 [numpy]\n",
      "   -------- -------------------------------  6/28 [numpy]\n",
      "   -------- -------------------------------  6/28 [numpy]\n",
      "   -------- -------------------------------  6/28 [numpy]\n",
      "   -------- -------------------------------  6/28 [numpy]\n",
      "   -------- -------------------------------  6/28 [numpy]\n",
      "   -------- -------------------------------  6/28 [numpy]\n",
      "   -------- -------------------------------  6/28 [numpy]\n",
      "   -------- -------------------------------  6/28 [numpy]\n",
      "   -------- -------------------------------  6/28 [numpy]\n",
      "   -------------- ------------------------- 10/28 [greenlet]\n",
      "   ---------------------- ----------------- 16/28 [SQLAlchemy]\n",
      "   ---------------------- ----------------- 16/28 [SQLAlchemy]\n",
      "   ---------------------- ----------------- 16/28 [SQLAlchemy]\n",
      "   ---------------------- ----------------- 16/28 [SQLAlchemy]\n",
      "   ---------------------- ----------------- 16/28 [SQLAlchemy]\n",
      "   ---------------------- ----------------- 16/28 [SQLAlchemy]\n",
      "   ---------------------- ----------------- 16/28 [SQLAlchemy]\n",
      "   ------------------------- -------------- 18/28 [pydantic]\n",
      "   ------------------------- -------------- 18/28 [pydantic]\n",
      "   --------------------------- ------------ 19/28 [marshmallow]\n",
      "   ------------------------------ --------- 21/28 [langsmith]\n",
      "   -------------------------------- ------- 23/28 [aiohttp]\n",
      "   ---------------------------------- ----- 24/28 [langchain-core]\n",
      "   ---------------------------------- ----- 24/28 [langchain-core]\n",
      "   ------------------------------------- -- 26/28 [langchain-community]\n",
      "   ------------------------------------- -- 26/28 [langchain-community]\n",
      "   ------------------------------------- -- 26/28 [langchain-community]\n",
      "   ------------------------------------- -- 26/28 [langchain-community]\n",
      "   ------------------------------------- -- 26/28 [langchain-community]\n",
      "   ------------------------------------- -- 26/28 [langchain-community]\n",
      "   ------------------------------------- -- 26/28 [langchain-community]\n",
      "   ------------------------------------- -- 26/28 [langchain-community]\n",
      "   ------------------------------------- -- 26/28 [langchain-community]\n",
      "   ------------------------------------- -- 26/28 [langchain-community]\n",
      "   ------------------------------------- -- 26/28 [langchain-community]\n",
      "   ------------------------------------- -- 26/28 [langchain-community]\n",
      "   ------------------------------------- -- 26/28 [langchain-community]\n",
      "   ------------------------------------- -- 26/28 [langchain-community]\n",
      "   -------------------------------------- - 27/28 [langchain]\n",
      "   -------------------------------------- - 27/28 [langchain]\n",
      "   -------------------------------------- - 27/28 [langchain]\n",
      "   -------------------------------------- - 27/28 [langchain]\n",
      "   -------------------------------------- - 27/28 [langchain]\n",
      "   -------------------------------------- - 27/28 [langchain]\n",
      "   -------------------------------------- - 27/28 [langchain]\n",
      "   -------------------------------------- - 27/28 [langchain]\n",
      "   -------------------------------------- - 27/28 [langchain]\n",
      "   -------------------------------------- - 27/28 [langchain]\n",
      "   -------------------------------------- - 27/28 [langchain]\n",
      "   -------------------------------------- - 27/28 [langchain]\n",
      "   -------------------------------------- - 27/28 [langchain]\n",
      "   -------------------------------------- - 27/28 [langchain]\n",
      "   ---------------------------------------- 28/28 [langchain]\n",
      "\n",
      "Successfully installed SQLAlchemy-2.0.42 aiohappyeyeballs-2.6.1 aiohttp-3.12.15 aiosignal-1.4.0 annotated-types-0.7.0 dataclasses-json-0.6.7 frozenlist-1.7.0 greenlet-3.2.4 jsonpatch-1.33 langchain-0.1.19 langchain-community-0.0.38 langchain-core-0.1.53 langchain-text-splitters-0.0.2 langsmith-0.1.147 marshmallow-3.26.1 multidict-6.6.3 mypy-extensions-1.1.0 numpy-1.26.4 orjson-3.11.1 packaging-23.2 propcache-0.3.2 pydantic-2.11.7 pydantic-core-2.33.2 requests-toolbelt-1.0.0 tenacity-8.5.0 typing-inspect-0.9.0 typing-inspection-0.4.1 yarl-1.20.1\n"
     ]
    }
   ],
   "execution_count": 1
  },
  {
   "metadata": {
    "ExecuteTime": {
     "end_time": "2025-08-10T12:57:24.053722Z",
     "start_time": "2025-08-10T12:57:24.050289Z"
    }
   },
   "cell_type": "code",
   "source": [
    "from langchain_core.pydantic_v1 import BaseModel\n",
    "\n",
    "class SalesTransaction(BaseModel):\n",
    "    transaction_id: int\n",
    "    customer_id: int\n",
    "    customer_name: str\n",
    "    product_id: int\n",
    "    product_name: str\n",
    "    product_category: str\n",
    "    quantity: int\n",
    "    unit_price: float\n",
    "    total_price: float\n",
    "    transaction_date: str"
   ],
   "id": "3551eabeb21c8a99",
   "outputs": [],
   "execution_count": 4
  },
  {
   "metadata": {
    "ExecuteTime": {
     "end_time": "2025-08-10T13:05:50.746304Z",
     "start_time": "2025-08-10T13:05:50.743483Z"
    }
   },
   "cell_type": "code",
   "source": [
    "sample_data = [\n",
    "    {\n",
    "        \"example\":\n",
    "        \"Transaction ID: 1001, Customer ID: 501, Customer Name: John S, Product ID: 201, Product Name: Hello Coding, Product Category: eLearning, Quantity: 2, Unit Price: $149, Total Price: $289, Transaction Date: 2030-01-02\"\n",
    "    },\n",
    "    {\n",
    "        \"example\":\n",
    "        \"Transaction ID: 1002, Customer ID: 502, Customer Name: Alice J, Product ID: 202, Product Name: Learn to Code, Category: eLearning, Quantity: 2, Unit Price: $149, Total Price: $289, Transaction Date: 2030-01-02\"\n",
    "    },\n",
    "    {\n",
    "        \"example\":\n",
    "        \"Transaction ID: 1003, Customer ID: 503, Customer Name: Bob T, Product ID: 201, Product Name: Hello Coding, Product Category: eLearning, Quantity: 2, Unit Price: $149, Total Price: $289, Transaction Date: 2030-01-02\"\n",
    "    }\n",
    "]"
   ],
   "id": "f27ed3eeddf1c650",
   "outputs": [],
   "execution_count": 11
  },
  {
   "metadata": {
    "ExecuteTime": {
     "end_time": "2025-08-10T13:05:52.699384Z",
     "start_time": "2025-08-10T13:05:52.696628Z"
    }
   },
   "cell_type": "code",
   "source": "print(sample_data)",
   "id": "373afd859e9898dc",
   "outputs": [
    {
     "name": "stdout",
     "output_type": "stream",
     "text": [
      "[{'example': 'Transaction ID: 1001, Customer ID: 501, Customer Name: John S, Product ID: 201, Product Name: Hello Coding, Product Category: eLearning, Quantity: 2, Unit Price: $149, Total Price: $289, Transaction Date: 2030-01-02'}, {'example': 'Transaction ID: 1002, Customer ID: 502, Customer Name: Alice J, Product ID: 202, Product Name: Learn to Code, Category: eLearning, Quantity: 2, Unit Price: $149, Total Price: $289, Transaction Date: 2030-01-02'}, {'example': 'Transaction ID: 1003, Customer ID: 503, Customer Name: Bob T, Product ID: 201, Product Name: Hello Coding, Product Category: eLearning, Quantity: 2, Unit Price: $149, Total Price: $289, Transaction Date: 2030-01-02'}]\n"
     ]
    }
   ],
   "execution_count": 12
  },
  {
   "metadata": {
    "ExecuteTime": {
     "end_time": "2025-08-10T13:13:46.787192Z",
     "start_time": "2025-08-10T13:13:46.784873Z"
    }
   },
   "cell_type": "code",
   "source": [
    "from langchain_core.prompts import PromptTemplate\n",
    "\n",
    "OPENAI_TEMPLATE = PromptTemplate(input_variables=[\"sample_data\"], template=\"{sample_data}\")"
   ],
   "id": "50e46eb220dda2f7",
   "outputs": [],
   "execution_count": 14
  },
  {
   "metadata": {
    "ExecuteTime": {
     "end_time": "2025-08-10T13:14:03.656303Z",
     "start_time": "2025-08-10T13:14:03.653918Z"
    }
   },
   "cell_type": "code",
   "source": "print(OPENAI_TEMPLATE)",
   "id": "dffd288e32574d4e",
   "outputs": [
    {
     "name": "stdout",
     "output_type": "stream",
     "text": [
      "input_variables=['sample_data'] template='{sample_data}'\n"
     ]
    }
   ],
   "execution_count": 15
  },
  {
   "metadata": {
    "ExecuteTime": {
     "end_time": "2025-08-10T13:15:15.323578Z",
     "start_time": "2025-08-10T13:15:12.678980Z"
    }
   },
   "cell_type": "code",
   "source": "!pip install langchain_experimental==0.0.58",
   "id": "1ba18ead52d2c2f6",
   "outputs": [
    {
     "name": "stdout",
     "output_type": "stream",
     "text": [
      "Collecting langchain_experimental==0.0.58\n",
      "  Downloading langchain_experimental-0.0.58-py3-none-any.whl.metadata (2.1 kB)\n",
      "Requirement already satisfied: langchain<0.2.0,>=0.1.17 in c:\\users\\keaton naidoo\\pycharmprojects\\langchain-data-model-tutorial\\.venv\\lib\\site-packages (from langchain_experimental==0.0.58) (0.1.19)\n",
      "Requirement already satisfied: langchain-core<0.2.0,>=0.1.52 in c:\\users\\keaton naidoo\\pycharmprojects\\langchain-data-model-tutorial\\.venv\\lib\\site-packages (from langchain_experimental==0.0.58) (0.1.53)\n",
      "Requirement already satisfied: PyYAML>=5.3 in c:\\users\\keaton naidoo\\pycharmprojects\\langchain-data-model-tutorial\\.venv\\lib\\site-packages (from langchain<0.2.0,>=0.1.17->langchain_experimental==0.0.58) (6.0.2)\n",
      "Requirement already satisfied: SQLAlchemy<3,>=1.4 in c:\\users\\keaton naidoo\\pycharmprojects\\langchain-data-model-tutorial\\.venv\\lib\\site-packages (from langchain<0.2.0,>=0.1.17->langchain_experimental==0.0.58) (2.0.42)\n",
      "Requirement already satisfied: aiohttp<4.0.0,>=3.8.3 in c:\\users\\keaton naidoo\\pycharmprojects\\langchain-data-model-tutorial\\.venv\\lib\\site-packages (from langchain<0.2.0,>=0.1.17->langchain_experimental==0.0.58) (3.12.15)\n",
      "Requirement already satisfied: dataclasses-json<0.7,>=0.5.7 in c:\\users\\keaton naidoo\\pycharmprojects\\langchain-data-model-tutorial\\.venv\\lib\\site-packages (from langchain<0.2.0,>=0.1.17->langchain_experimental==0.0.58) (0.6.7)\n",
      "Requirement already satisfied: langchain-community<0.1,>=0.0.38 in c:\\users\\keaton naidoo\\pycharmprojects\\langchain-data-model-tutorial\\.venv\\lib\\site-packages (from langchain<0.2.0,>=0.1.17->langchain_experimental==0.0.58) (0.0.38)\n",
      "Requirement already satisfied: langchain-text-splitters<0.1,>=0.0.1 in c:\\users\\keaton naidoo\\pycharmprojects\\langchain-data-model-tutorial\\.venv\\lib\\site-packages (from langchain<0.2.0,>=0.1.17->langchain_experimental==0.0.58) (0.0.2)\n",
      "Requirement already satisfied: langsmith<0.2.0,>=0.1.17 in c:\\users\\keaton naidoo\\pycharmprojects\\langchain-data-model-tutorial\\.venv\\lib\\site-packages (from langchain<0.2.0,>=0.1.17->langchain_experimental==0.0.58) (0.1.147)\n",
      "Requirement already satisfied: numpy<2,>=1 in c:\\users\\keaton naidoo\\pycharmprojects\\langchain-data-model-tutorial\\.venv\\lib\\site-packages (from langchain<0.2.0,>=0.1.17->langchain_experimental==0.0.58) (1.26.4)\n",
      "Requirement already satisfied: pydantic<3,>=1 in c:\\users\\keaton naidoo\\pycharmprojects\\langchain-data-model-tutorial\\.venv\\lib\\site-packages (from langchain<0.2.0,>=0.1.17->langchain_experimental==0.0.58) (2.11.7)\n",
      "Requirement already satisfied: requests<3,>=2 in c:\\users\\keaton naidoo\\pycharmprojects\\langchain-data-model-tutorial\\.venv\\lib\\site-packages (from langchain<0.2.0,>=0.1.17->langchain_experimental==0.0.58) (2.32.4)\n",
      "Requirement already satisfied: tenacity<9.0.0,>=8.1.0 in c:\\users\\keaton naidoo\\pycharmprojects\\langchain-data-model-tutorial\\.venv\\lib\\site-packages (from langchain<0.2.0,>=0.1.17->langchain_experimental==0.0.58) (8.5.0)\n",
      "Requirement already satisfied: aiohappyeyeballs>=2.5.0 in c:\\users\\keaton naidoo\\pycharmprojects\\langchain-data-model-tutorial\\.venv\\lib\\site-packages (from aiohttp<4.0.0,>=3.8.3->langchain<0.2.0,>=0.1.17->langchain_experimental==0.0.58) (2.6.1)\n",
      "Requirement already satisfied: aiosignal>=1.4.0 in c:\\users\\keaton naidoo\\pycharmprojects\\langchain-data-model-tutorial\\.venv\\lib\\site-packages (from aiohttp<4.0.0,>=3.8.3->langchain<0.2.0,>=0.1.17->langchain_experimental==0.0.58) (1.4.0)\n",
      "Requirement already satisfied: attrs>=17.3.0 in c:\\users\\keaton naidoo\\pycharmprojects\\langchain-data-model-tutorial\\.venv\\lib\\site-packages (from aiohttp<4.0.0,>=3.8.3->langchain<0.2.0,>=0.1.17->langchain_experimental==0.0.58) (25.3.0)\n",
      "Requirement already satisfied: frozenlist>=1.1.1 in c:\\users\\keaton naidoo\\pycharmprojects\\langchain-data-model-tutorial\\.venv\\lib\\site-packages (from aiohttp<4.0.0,>=3.8.3->langchain<0.2.0,>=0.1.17->langchain_experimental==0.0.58) (1.7.0)\n",
      "Requirement already satisfied: multidict<7.0,>=4.5 in c:\\users\\keaton naidoo\\pycharmprojects\\langchain-data-model-tutorial\\.venv\\lib\\site-packages (from aiohttp<4.0.0,>=3.8.3->langchain<0.2.0,>=0.1.17->langchain_experimental==0.0.58) (6.6.3)\n",
      "Requirement already satisfied: propcache>=0.2.0 in c:\\users\\keaton naidoo\\pycharmprojects\\langchain-data-model-tutorial\\.venv\\lib\\site-packages (from aiohttp<4.0.0,>=3.8.3->langchain<0.2.0,>=0.1.17->langchain_experimental==0.0.58) (0.3.2)\n",
      "Requirement already satisfied: yarl<2.0,>=1.17.0 in c:\\users\\keaton naidoo\\pycharmprojects\\langchain-data-model-tutorial\\.venv\\lib\\site-packages (from aiohttp<4.0.0,>=3.8.3->langchain<0.2.0,>=0.1.17->langchain_experimental==0.0.58) (1.20.1)\n",
      "Requirement already satisfied: marshmallow<4.0.0,>=3.18.0 in c:\\users\\keaton naidoo\\pycharmprojects\\langchain-data-model-tutorial\\.venv\\lib\\site-packages (from dataclasses-json<0.7,>=0.5.7->langchain<0.2.0,>=0.1.17->langchain_experimental==0.0.58) (3.26.1)\n",
      "Requirement already satisfied: typing-inspect<1,>=0.4.0 in c:\\users\\keaton naidoo\\pycharmprojects\\langchain-data-model-tutorial\\.venv\\lib\\site-packages (from dataclasses-json<0.7,>=0.5.7->langchain<0.2.0,>=0.1.17->langchain_experimental==0.0.58) (0.9.0)\n",
      "Requirement already satisfied: jsonpatch<2.0,>=1.33 in c:\\users\\keaton naidoo\\pycharmprojects\\langchain-data-model-tutorial\\.venv\\lib\\site-packages (from langchain-core<0.2.0,>=0.1.52->langchain_experimental==0.0.58) (1.33)\n",
      "Requirement already satisfied: packaging<24.0,>=23.2 in c:\\users\\keaton naidoo\\pycharmprojects\\langchain-data-model-tutorial\\.venv\\lib\\site-packages (from langchain-core<0.2.0,>=0.1.52->langchain_experimental==0.0.58) (23.2)\n",
      "Requirement already satisfied: jsonpointer>=1.9 in c:\\users\\keaton naidoo\\pycharmprojects\\langchain-data-model-tutorial\\.venv\\lib\\site-packages (from jsonpatch<2.0,>=1.33->langchain-core<0.2.0,>=0.1.52->langchain_experimental==0.0.58) (3.0.0)\n",
      "Requirement already satisfied: httpx<1,>=0.23.0 in c:\\users\\keaton naidoo\\pycharmprojects\\langchain-data-model-tutorial\\.venv\\lib\\site-packages (from langsmith<0.2.0,>=0.1.17->langchain<0.2.0,>=0.1.17->langchain_experimental==0.0.58) (0.28.1)\n",
      "Requirement already satisfied: orjson<4.0.0,>=3.9.14 in c:\\users\\keaton naidoo\\pycharmprojects\\langchain-data-model-tutorial\\.venv\\lib\\site-packages (from langsmith<0.2.0,>=0.1.17->langchain<0.2.0,>=0.1.17->langchain_experimental==0.0.58) (3.11.1)\n",
      "Requirement already satisfied: requests-toolbelt<2.0.0,>=1.0.0 in c:\\users\\keaton naidoo\\pycharmprojects\\langchain-data-model-tutorial\\.venv\\lib\\site-packages (from langsmith<0.2.0,>=0.1.17->langchain<0.2.0,>=0.1.17->langchain_experimental==0.0.58) (1.0.0)\n",
      "Requirement already satisfied: anyio in c:\\users\\keaton naidoo\\pycharmprojects\\langchain-data-model-tutorial\\.venv\\lib\\site-packages (from httpx<1,>=0.23.0->langsmith<0.2.0,>=0.1.17->langchain<0.2.0,>=0.1.17->langchain_experimental==0.0.58) (4.10.0)\n",
      "Requirement already satisfied: certifi in c:\\users\\keaton naidoo\\pycharmprojects\\langchain-data-model-tutorial\\.venv\\lib\\site-packages (from httpx<1,>=0.23.0->langsmith<0.2.0,>=0.1.17->langchain<0.2.0,>=0.1.17->langchain_experimental==0.0.58) (2025.8.3)\n",
      "Requirement already satisfied: httpcore==1.* in c:\\users\\keaton naidoo\\pycharmprojects\\langchain-data-model-tutorial\\.venv\\lib\\site-packages (from httpx<1,>=0.23.0->langsmith<0.2.0,>=0.1.17->langchain<0.2.0,>=0.1.17->langchain_experimental==0.0.58) (1.0.9)\n",
      "Requirement already satisfied: idna in c:\\users\\keaton naidoo\\pycharmprojects\\langchain-data-model-tutorial\\.venv\\lib\\site-packages (from httpx<1,>=0.23.0->langsmith<0.2.0,>=0.1.17->langchain<0.2.0,>=0.1.17->langchain_experimental==0.0.58) (3.10)\n",
      "Requirement already satisfied: h11>=0.16 in c:\\users\\keaton naidoo\\pycharmprojects\\langchain-data-model-tutorial\\.venv\\lib\\site-packages (from httpcore==1.*->httpx<1,>=0.23.0->langsmith<0.2.0,>=0.1.17->langchain<0.2.0,>=0.1.17->langchain_experimental==0.0.58) (0.16.0)\n",
      "Requirement already satisfied: annotated-types>=0.6.0 in c:\\users\\keaton naidoo\\pycharmprojects\\langchain-data-model-tutorial\\.venv\\lib\\site-packages (from pydantic<3,>=1->langchain<0.2.0,>=0.1.17->langchain_experimental==0.0.58) (0.7.0)\n",
      "Requirement already satisfied: pydantic-core==2.33.2 in c:\\users\\keaton naidoo\\pycharmprojects\\langchain-data-model-tutorial\\.venv\\lib\\site-packages (from pydantic<3,>=1->langchain<0.2.0,>=0.1.17->langchain_experimental==0.0.58) (2.33.2)\n",
      "Requirement already satisfied: typing-extensions>=4.12.2 in c:\\users\\keaton naidoo\\pycharmprojects\\langchain-data-model-tutorial\\.venv\\lib\\site-packages (from pydantic<3,>=1->langchain<0.2.0,>=0.1.17->langchain_experimental==0.0.58) (4.14.1)\n",
      "Requirement already satisfied: typing-inspection>=0.4.0 in c:\\users\\keaton naidoo\\pycharmprojects\\langchain-data-model-tutorial\\.venv\\lib\\site-packages (from pydantic<3,>=1->langchain<0.2.0,>=0.1.17->langchain_experimental==0.0.58) (0.4.1)\n",
      "Requirement already satisfied: charset_normalizer<4,>=2 in c:\\users\\keaton naidoo\\pycharmprojects\\langchain-data-model-tutorial\\.venv\\lib\\site-packages (from requests<3,>=2->langchain<0.2.0,>=0.1.17->langchain_experimental==0.0.58) (3.4.3)\n",
      "Requirement already satisfied: urllib3<3,>=1.21.1 in c:\\users\\keaton naidoo\\pycharmprojects\\langchain-data-model-tutorial\\.venv\\lib\\site-packages (from requests<3,>=2->langchain<0.2.0,>=0.1.17->langchain_experimental==0.0.58) (2.5.0)\n",
      "Requirement already satisfied: greenlet>=1 in c:\\users\\keaton naidoo\\pycharmprojects\\langchain-data-model-tutorial\\.venv\\lib\\site-packages (from SQLAlchemy<3,>=1.4->langchain<0.2.0,>=0.1.17->langchain_experimental==0.0.58) (3.2.4)\n",
      "Requirement already satisfied: mypy-extensions>=0.3.0 in c:\\users\\keaton naidoo\\pycharmprojects\\langchain-data-model-tutorial\\.venv\\lib\\site-packages (from typing-inspect<1,>=0.4.0->dataclasses-json<0.7,>=0.5.7->langchain<0.2.0,>=0.1.17->langchain_experimental==0.0.58) (1.1.0)\n",
      "Requirement already satisfied: sniffio>=1.1 in c:\\users\\keaton naidoo\\pycharmprojects\\langchain-data-model-tutorial\\.venv\\lib\\site-packages (from anyio->httpx<1,>=0.23.0->langsmith<0.2.0,>=0.1.17->langchain<0.2.0,>=0.1.17->langchain_experimental==0.0.58) (1.3.1)\n",
      "Downloading langchain_experimental-0.0.58-py3-none-any.whl (199 kB)\n",
      "Installing collected packages: langchain_experimental\n",
      "Successfully installed langchain_experimental-0.0.58\n"
     ]
    }
   ],
   "execution_count": 16
  },
  {
   "metadata": {
    "ExecuteTime": {
     "end_time": "2025-08-10T13:28:15.559191Z",
     "start_time": "2025-08-10T13:28:15.556078Z"
    }
   },
   "cell_type": "code",
   "source": [
    "from langchain_experimental.tabular_synthetic_data.prompts import (\n",
    "    SYNTHETIC_FEW_SHOT_PREFIX,\n",
    "    SYNTHETIC_FEW_SHOT_SUFFIX\n",
    ")\n",
    "\n",
    "from langchain_core.prompts import FewShotPromptTemplate\n",
    "\n",
    "prompt_template = FewShotPromptTemplate(\n",
    "    prefix=SYNTHETIC_FEW_SHOT_PREFIX,\n",
    "    examples=sample_data,\n",
    "    suffix=SYNTHETIC_FEW_SHOT_SUFFIX,\n",
    "    input_variables=[\"subject\", \"extra\"],\n",
    "    example_prompt=OPENAI_TEMPLATE\n",
    ")"
   ],
   "id": "e0344dfc949b2568",
   "outputs": [],
   "execution_count": 20
  },
  {
   "metadata": {
    "ExecuteTime": {
     "end_time": "2025-08-10T13:28:18.857682Z",
     "start_time": "2025-08-10T13:28:18.854445Z"
    }
   },
   "cell_type": "code",
   "source": "print(prompt_template)",
   "id": "3e9316b062f74a32",
   "outputs": [
    {
     "name": "stdout",
     "output_type": "stream",
     "text": [
      "input_variables=['extra', 'subject'] examples=[{'example': 'Transaction ID: 1001, Customer ID: 501, Customer Name: John S, Product ID: 201, Product Name: Hello Coding, Product Category: eLearning, Quantity: 2, Unit Price: $149, Total Price: $289, Transaction Date: 2030-01-02'}, {'example': 'Transaction ID: 1002, Customer ID: 502, Customer Name: Alice J, Product ID: 202, Product Name: Learn to Code, Category: eLearning, Quantity: 2, Unit Price: $149, Total Price: $289, Transaction Date: 2030-01-02'}, {'example': 'Transaction ID: 1003, Customer ID: 503, Customer Name: Bob T, Product ID: 201, Product Name: Hello Coding, Product Category: eLearning, Quantity: 2, Unit Price: $149, Total Price: $289, Transaction Date: 2030-01-02'}] example_prompt=PromptTemplate(input_variables=['sample_data'], template='{sample_data}') suffix='Now you generate synthetic data about {subject}. Make sure to {extra}:' prefix='This is a test about generating synthetic data about {subject}. Examples below:'\n"
     ]
    }
   ],
   "execution_count": 21
  },
  {
   "metadata": {},
   "cell_type": "code",
   "outputs": [],
   "execution_count": null,
   "source": "",
   "id": "f0af421854e56f"
  }
 ],
 "metadata": {
  "kernelspec": {
   "display_name": "Python 3",
   "language": "python",
   "name": "python3"
  },
  "language_info": {
   "codemirror_mode": {
    "name": "ipython",
    "version": 2
   },
   "file_extension": ".py",
   "mimetype": "text/x-python",
   "name": "python",
   "nbconvert_exporter": "python",
   "pygments_lexer": "ipython2",
   "version": "2.7.6"
  }
 },
 "nbformat": 4,
 "nbformat_minor": 5
}
