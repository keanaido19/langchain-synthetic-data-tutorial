{
 "cells": [
  {
   "metadata": {
    "ExecuteTime": {
     "end_time": "2025-08-10T12:33:05.611416Z",
     "start_time": "2025-08-10T12:32:48.867650Z"
    }
   },
   "cell_type": "code",
   "source": "!pip install langchain==0.1.19",
   "id": "fbc121e30a2defb3",
   "outputs": [
    {
     "name": "stdout",
     "output_type": "stream",
     "text": [
      "Collecting langchain==0.1.19\n",
      "  Downloading langchain-0.1.19-py3-none-any.whl.metadata (13 kB)\n",
      "Requirement already satisfied: PyYAML>=5.3 in c:\\users\\keaton naidoo\\pycharmprojects\\langchain-data-model-tutorial\\.venv\\lib\\site-packages (from langchain==0.1.19) (6.0.2)\n",
      "Collecting SQLAlchemy<3,>=1.4 (from langchain==0.1.19)\n",
      "  Using cached sqlalchemy-2.0.42-cp313-cp313-win_amd64.whl.metadata (9.8 kB)\n",
      "Collecting aiohttp<4.0.0,>=3.8.3 (from langchain==0.1.19)\n",
      "  Using cached aiohttp-3.12.15-cp313-cp313-win_amd64.whl.metadata (7.9 kB)\n",
      "Collecting dataclasses-json<0.7,>=0.5.7 (from langchain==0.1.19)\n",
      "  Using cached dataclasses_json-0.6.7-py3-none-any.whl.metadata (25 kB)\n",
      "Collecting langchain-community<0.1,>=0.0.38 (from langchain==0.1.19)\n",
      "  Using cached langchain_community-0.0.38-py3-none-any.whl.metadata (8.7 kB)\n",
      "Collecting langchain-core<0.2.0,>=0.1.52 (from langchain==0.1.19)\n",
      "  Using cached langchain_core-0.1.53-py3-none-any.whl.metadata (5.9 kB)\n",
      "Collecting langchain-text-splitters<0.1,>=0.0.1 (from langchain==0.1.19)\n",
      "  Using cached langchain_text_splitters-0.0.2-py3-none-any.whl.metadata (2.2 kB)\n",
      "Collecting langsmith<0.2.0,>=0.1.17 (from langchain==0.1.19)\n",
      "  Using cached langsmith-0.1.147-py3-none-any.whl.metadata (14 kB)\n",
      "Collecting numpy<2,>=1 (from langchain==0.1.19)\n",
      "  Using cached numpy-1.26.4-cp313-cp313-win_amd64.whl\n",
      "Collecting pydantic<3,>=1 (from langchain==0.1.19)\n",
      "  Using cached pydantic-2.11.7-py3-none-any.whl.metadata (67 kB)\n",
      "Requirement already satisfied: requests<3,>=2 in c:\\users\\keaton naidoo\\pycharmprojects\\langchain-data-model-tutorial\\.venv\\lib\\site-packages (from langchain==0.1.19) (2.32.4)\n",
      "Collecting tenacity<9.0.0,>=8.1.0 (from langchain==0.1.19)\n",
      "  Using cached tenacity-8.5.0-py3-none-any.whl.metadata (1.2 kB)\n",
      "Collecting aiohappyeyeballs>=2.5.0 (from aiohttp<4.0.0,>=3.8.3->langchain==0.1.19)\n",
      "  Using cached aiohappyeyeballs-2.6.1-py3-none-any.whl.metadata (5.9 kB)\n",
      "Collecting aiosignal>=1.4.0 (from aiohttp<4.0.0,>=3.8.3->langchain==0.1.19)\n",
      "  Using cached aiosignal-1.4.0-py3-none-any.whl.metadata (3.7 kB)\n",
      "Requirement already satisfied: attrs>=17.3.0 in c:\\users\\keaton naidoo\\pycharmprojects\\langchain-data-model-tutorial\\.venv\\lib\\site-packages (from aiohttp<4.0.0,>=3.8.3->langchain==0.1.19) (25.3.0)\n",
      "Collecting frozenlist>=1.1.1 (from aiohttp<4.0.0,>=3.8.3->langchain==0.1.19)\n",
      "  Using cached frozenlist-1.7.0-cp313-cp313-win_amd64.whl.metadata (19 kB)\n",
      "Collecting multidict<7.0,>=4.5 (from aiohttp<4.0.0,>=3.8.3->langchain==0.1.19)\n",
      "  Using cached multidict-6.6.3-cp313-cp313-win_amd64.whl.metadata (5.4 kB)\n",
      "Collecting propcache>=0.2.0 (from aiohttp<4.0.0,>=3.8.3->langchain==0.1.19)\n",
      "  Using cached propcache-0.3.2-cp313-cp313-win_amd64.whl.metadata (12 kB)\n",
      "Collecting yarl<2.0,>=1.17.0 (from aiohttp<4.0.0,>=3.8.3->langchain==0.1.19)\n",
      "  Using cached yarl-1.20.1-cp313-cp313-win_amd64.whl.metadata (76 kB)\n",
      "Collecting marshmallow<4.0.0,>=3.18.0 (from dataclasses-json<0.7,>=0.5.7->langchain==0.1.19)\n",
      "  Using cached marshmallow-3.26.1-py3-none-any.whl.metadata (7.3 kB)\n",
      "Collecting typing-inspect<1,>=0.4.0 (from dataclasses-json<0.7,>=0.5.7->langchain==0.1.19)\n",
      "  Using cached typing_inspect-0.9.0-py3-none-any.whl.metadata (1.5 kB)\n",
      "Collecting jsonpatch<2.0,>=1.33 (from langchain-core<0.2.0,>=0.1.52->langchain==0.1.19)\n",
      "  Using cached jsonpatch-1.33-py2.py3-none-any.whl.metadata (3.0 kB)\n",
      "Collecting packaging<24.0,>=23.2 (from langchain-core<0.2.0,>=0.1.52->langchain==0.1.19)\n",
      "  Using cached packaging-23.2-py3-none-any.whl.metadata (3.2 kB)\n",
      "Requirement already satisfied: jsonpointer>=1.9 in c:\\users\\keaton naidoo\\pycharmprojects\\langchain-data-model-tutorial\\.venv\\lib\\site-packages (from jsonpatch<2.0,>=1.33->langchain-core<0.2.0,>=0.1.52->langchain==0.1.19) (3.0.0)\n",
      "Requirement already satisfied: httpx<1,>=0.23.0 in c:\\users\\keaton naidoo\\pycharmprojects\\langchain-data-model-tutorial\\.venv\\lib\\site-packages (from langsmith<0.2.0,>=0.1.17->langchain==0.1.19) (0.28.1)\n",
      "Collecting orjson<4.0.0,>=3.9.14 (from langsmith<0.2.0,>=0.1.17->langchain==0.1.19)\n",
      "  Using cached orjson-3.11.1-cp313-cp313-win_amd64.whl.metadata (43 kB)\n",
      "Collecting requests-toolbelt<2.0.0,>=1.0.0 (from langsmith<0.2.0,>=0.1.17->langchain==0.1.19)\n",
      "  Using cached requests_toolbelt-1.0.0-py2.py3-none-any.whl.metadata (14 kB)\n",
      "Requirement already satisfied: anyio in c:\\users\\keaton naidoo\\pycharmprojects\\langchain-data-model-tutorial\\.venv\\lib\\site-packages (from httpx<1,>=0.23.0->langsmith<0.2.0,>=0.1.17->langchain==0.1.19) (4.10.0)\n",
      "Requirement already satisfied: certifi in c:\\users\\keaton naidoo\\pycharmprojects\\langchain-data-model-tutorial\\.venv\\lib\\site-packages (from httpx<1,>=0.23.0->langsmith<0.2.0,>=0.1.17->langchain==0.1.19) (2025.8.3)\n",
      "Requirement already satisfied: httpcore==1.* in c:\\users\\keaton naidoo\\pycharmprojects\\langchain-data-model-tutorial\\.venv\\lib\\site-packages (from httpx<1,>=0.23.0->langsmith<0.2.0,>=0.1.17->langchain==0.1.19) (1.0.9)\n",
      "Requirement already satisfied: idna in c:\\users\\keaton naidoo\\pycharmprojects\\langchain-data-model-tutorial\\.venv\\lib\\site-packages (from httpx<1,>=0.23.0->langsmith<0.2.0,>=0.1.17->langchain==0.1.19) (3.10)\n",
      "Requirement already satisfied: h11>=0.16 in c:\\users\\keaton naidoo\\pycharmprojects\\langchain-data-model-tutorial\\.venv\\lib\\site-packages (from httpcore==1.*->httpx<1,>=0.23.0->langsmith<0.2.0,>=0.1.17->langchain==0.1.19) (0.16.0)\n",
      "Collecting annotated-types>=0.6.0 (from pydantic<3,>=1->langchain==0.1.19)\n",
      "  Using cached annotated_types-0.7.0-py3-none-any.whl.metadata (15 kB)\n",
      "Collecting pydantic-core==2.33.2 (from pydantic<3,>=1->langchain==0.1.19)\n",
      "  Using cached pydantic_core-2.33.2-cp313-cp313-win_amd64.whl.metadata (6.9 kB)\n",
      "Requirement already satisfied: typing-extensions>=4.12.2 in c:\\users\\keaton naidoo\\pycharmprojects\\langchain-data-model-tutorial\\.venv\\lib\\site-packages (from pydantic<3,>=1->langchain==0.1.19) (4.14.1)\n",
      "Collecting typing-inspection>=0.4.0 (from pydantic<3,>=1->langchain==0.1.19)\n",
      "  Using cached typing_inspection-0.4.1-py3-none-any.whl.metadata (2.6 kB)\n",
      "Requirement already satisfied: charset_normalizer<4,>=2 in c:\\users\\keaton naidoo\\pycharmprojects\\langchain-data-model-tutorial\\.venv\\lib\\site-packages (from requests<3,>=2->langchain==0.1.19) (3.4.3)\n",
      "Requirement already satisfied: urllib3<3,>=1.21.1 in c:\\users\\keaton naidoo\\pycharmprojects\\langchain-data-model-tutorial\\.venv\\lib\\site-packages (from requests<3,>=2->langchain==0.1.19) (2.5.0)\n",
      "Collecting greenlet>=1 (from SQLAlchemy<3,>=1.4->langchain==0.1.19)\n",
      "  Using cached greenlet-3.2.4-cp313-cp313-win_amd64.whl.metadata (4.2 kB)\n",
      "Collecting mypy-extensions>=0.3.0 (from typing-inspect<1,>=0.4.0->dataclasses-json<0.7,>=0.5.7->langchain==0.1.19)\n",
      "  Using cached mypy_extensions-1.1.0-py3-none-any.whl.metadata (1.1 kB)\n",
      "Requirement already satisfied: sniffio>=1.1 in c:\\users\\keaton naidoo\\pycharmprojects\\langchain-data-model-tutorial\\.venv\\lib\\site-packages (from anyio->httpx<1,>=0.23.0->langsmith<0.2.0,>=0.1.17->langchain==0.1.19) (1.3.1)\n",
      "Downloading langchain-0.1.19-py3-none-any.whl (1.0 MB)\n",
      "   ---------------------------------------- 0.0/1.0 MB ? eta -:--:--\n",
      "   -------------------- ------------------- 0.5/1.0 MB 2.7 MB/s eta 0:00:01\n",
      "   ---------------------------------------- 1.0/1.0 MB 2.7 MB/s  0:00:00\n",
      "Using cached aiohttp-3.12.15-cp313-cp313-win_amd64.whl (449 kB)\n",
      "Using cached dataclasses_json-0.6.7-py3-none-any.whl (28 kB)\n",
      "Using cached langchain_community-0.0.38-py3-none-any.whl (2.0 MB)\n",
      "Using cached langchain_core-0.1.53-py3-none-any.whl (303 kB)\n",
      "Using cached jsonpatch-1.33-py2.py3-none-any.whl (12 kB)\n",
      "Using cached langchain_text_splitters-0.0.2-py3-none-any.whl (23 kB)\n",
      "Using cached langsmith-0.1.147-py3-none-any.whl (311 kB)\n",
      "Using cached marshmallow-3.26.1-py3-none-any.whl (50 kB)\n",
      "Using cached multidict-6.6.3-cp313-cp313-win_amd64.whl (45 kB)\n",
      "Using cached orjson-3.11.1-cp313-cp313-win_amd64.whl (131 kB)\n",
      "Using cached packaging-23.2-py3-none-any.whl (53 kB)\n",
      "Using cached pydantic-2.11.7-py3-none-any.whl (444 kB)\n",
      "Using cached pydantic_core-2.33.2-cp313-cp313-win_amd64.whl (2.0 MB)\n",
      "Using cached requests_toolbelt-1.0.0-py2.py3-none-any.whl (54 kB)\n",
      "Using cached sqlalchemy-2.0.42-cp313-cp313-win_amd64.whl (2.1 MB)\n",
      "Using cached tenacity-8.5.0-py3-none-any.whl (28 kB)\n",
      "Using cached typing_inspect-0.9.0-py3-none-any.whl (8.8 kB)\n",
      "Using cached yarl-1.20.1-cp313-cp313-win_amd64.whl (86 kB)\n",
      "Using cached aiohappyeyeballs-2.6.1-py3-none-any.whl (15 kB)\n",
      "Using cached aiosignal-1.4.0-py3-none-any.whl (7.5 kB)\n",
      "Using cached annotated_types-0.7.0-py3-none-any.whl (13 kB)\n",
      "Using cached frozenlist-1.7.0-cp313-cp313-win_amd64.whl (43 kB)\n",
      "Using cached greenlet-3.2.4-cp313-cp313-win_amd64.whl (299 kB)\n",
      "Using cached mypy_extensions-1.1.0-py3-none-any.whl (5.0 kB)\n",
      "Using cached propcache-0.3.2-cp313-cp313-win_amd64.whl (40 kB)\n",
      "Using cached typing_inspection-0.4.1-py3-none-any.whl (14 kB)\n",
      "Installing collected packages: typing-inspection, tenacity, pydantic-core, propcache, packaging, orjson, numpy, mypy-extensions, multidict, jsonpatch, greenlet, frozenlist, annotated-types, aiohappyeyeballs, yarl, typing-inspect, SQLAlchemy, requests-toolbelt, pydantic, marshmallow, aiosignal, langsmith, dataclasses-json, aiohttp, langchain-core, langchain-text-splitters, langchain-community, langchain\n",
      "\n",
      "  Attempting uninstall: packaging\n",
      "\n",
      "    Found existing installation: packaging 25.0\n",
      "\n",
      "    Uninstalling packaging-25.0:\n",
      "\n",
      "      Successfully uninstalled packaging-25.0\n",
      "\n",
      "   ------- --------------------------------  5/28 [orjson]\n",
      "  Attempting uninstall: numpy\n",
      "   ------- --------------------------------  5/28 [orjson]\n",
      "    Found existing installation: numpy 2.3.2\n",
      "   ------- --------------------------------  5/28 [orjson]\n",
      "    Uninstalling numpy-2.3.2:\n",
      "   ------- --------------------------------  5/28 [orjson]\n",
      "   -------- -------------------------------  6/28 [numpy]\n",
      "      Successfully uninstalled numpy-2.3.2\n",
      "   -------- -------------------------------  6/28 [numpy]\n",
      "   -------- -------------------------------  6/28 [numpy]\n",
      "   -------- -------------------------------  6/28 [numpy]\n",
      "   -------- -------------------------------  6/28 [numpy]\n",
      "   -------- -------------------------------  6/28 [numpy]\n",
      "   -------- -------------------------------  6/28 [numpy]\n",
      "   -------- -------------------------------  6/28 [numpy]\n",
      "   -------- -------------------------------  6/28 [numpy]\n",
      "   -------- -------------------------------  6/28 [numpy]\n",
      "   -------- -------------------------------  6/28 [numpy]\n",
      "   -------- -------------------------------  6/28 [numpy]\n",
      "   -------- -------------------------------  6/28 [numpy]\n",
      "   -------- -------------------------------  6/28 [numpy]\n",
      "   -------------- ------------------------- 10/28 [greenlet]\n",
      "   ---------------------- ----------------- 16/28 [SQLAlchemy]\n",
      "   ---------------------- ----------------- 16/28 [SQLAlchemy]\n",
      "   ---------------------- ----------------- 16/28 [SQLAlchemy]\n",
      "   ---------------------- ----------------- 16/28 [SQLAlchemy]\n",
      "   ---------------------- ----------------- 16/28 [SQLAlchemy]\n",
      "   ---------------------- ----------------- 16/28 [SQLAlchemy]\n",
      "   ---------------------- ----------------- 16/28 [SQLAlchemy]\n",
      "   ------------------------- -------------- 18/28 [pydantic]\n",
      "   ------------------------- -------------- 18/28 [pydantic]\n",
      "   --------------------------- ------------ 19/28 [marshmallow]\n",
      "   ------------------------------ --------- 21/28 [langsmith]\n",
      "   -------------------------------- ------- 23/28 [aiohttp]\n",
      "   ---------------------------------- ----- 24/28 [langchain-core]\n",
      "   ---------------------------------- ----- 24/28 [langchain-core]\n",
      "   ------------------------------------- -- 26/28 [langchain-community]\n",
      "   ------------------------------------- -- 26/28 [langchain-community]\n",
      "   ------------------------------------- -- 26/28 [langchain-community]\n",
      "   ------------------------------------- -- 26/28 [langchain-community]\n",
      "   ------------------------------------- -- 26/28 [langchain-community]\n",
      "   ------------------------------------- -- 26/28 [langchain-community]\n",
      "   ------------------------------------- -- 26/28 [langchain-community]\n",
      "   ------------------------------------- -- 26/28 [langchain-community]\n",
      "   ------------------------------------- -- 26/28 [langchain-community]\n",
      "   ------------------------------------- -- 26/28 [langchain-community]\n",
      "   ------------------------------------- -- 26/28 [langchain-community]\n",
      "   ------------------------------------- -- 26/28 [langchain-community]\n",
      "   ------------------------------------- -- 26/28 [langchain-community]\n",
      "   ------------------------------------- -- 26/28 [langchain-community]\n",
      "   -------------------------------------- - 27/28 [langchain]\n",
      "   -------------------------------------- - 27/28 [langchain]\n",
      "   -------------------------------------- - 27/28 [langchain]\n",
      "   -------------------------------------- - 27/28 [langchain]\n",
      "   -------------------------------------- - 27/28 [langchain]\n",
      "   -------------------------------------- - 27/28 [langchain]\n",
      "   -------------------------------------- - 27/28 [langchain]\n",
      "   -------------------------------------- - 27/28 [langchain]\n",
      "   -------------------------------------- - 27/28 [langchain]\n",
      "   -------------------------------------- - 27/28 [langchain]\n",
      "   -------------------------------------- - 27/28 [langchain]\n",
      "   -------------------------------------- - 27/28 [langchain]\n",
      "   -------------------------------------- - 27/28 [langchain]\n",
      "   -------------------------------------- - 27/28 [langchain]\n",
      "   ---------------------------------------- 28/28 [langchain]\n",
      "\n",
      "Successfully installed SQLAlchemy-2.0.42 aiohappyeyeballs-2.6.1 aiohttp-3.12.15 aiosignal-1.4.0 annotated-types-0.7.0 dataclasses-json-0.6.7 frozenlist-1.7.0 greenlet-3.2.4 jsonpatch-1.33 langchain-0.1.19 langchain-community-0.0.38 langchain-core-0.1.53 langchain-text-splitters-0.0.2 langsmith-0.1.147 marshmallow-3.26.1 multidict-6.6.3 mypy-extensions-1.1.0 numpy-1.26.4 orjson-3.11.1 packaging-23.2 propcache-0.3.2 pydantic-2.11.7 pydantic-core-2.33.2 requests-toolbelt-1.0.0 tenacity-8.5.0 typing-inspect-0.9.0 typing-inspection-0.4.1 yarl-1.20.1\n"
     ]
    }
   ],
   "execution_count": 1
  },
  {
   "metadata": {
    "ExecuteTime": {
     "end_time": "2025-08-10T12:57:24.053722Z",
     "start_time": "2025-08-10T12:57:24.050289Z"
    }
   },
   "cell_type": "code",
   "source": [
    "from langchain_core.pydantic_v1 import BaseModel\n",
    "\n",
    "class SalesTransaction(BaseModel):\n",
    "    transaction_id: int\n",
    "    customer_id: int\n",
    "    customer_name: str\n",
    "    product_id: int\n",
    "    product_name: str\n",
    "    product_category: str\n",
    "    quantity: int\n",
    "    unit_price: float\n",
    "    total_price: float\n",
    "    transaction_date: str"
   ],
   "id": "3551eabeb21c8a99",
   "outputs": [],
   "execution_count": 4
  },
  {
   "metadata": {
    "ExecuteTime": {
     "end_time": "2025-08-10T13:05:50.746304Z",
     "start_time": "2025-08-10T13:05:50.743483Z"
    }
   },
   "cell_type": "code",
   "source": [
    "sample_data = [\n",
    "    {\n",
    "        \"example\":\n",
    "        \"Transaction ID: 1001, Customer ID: 501, Customer Name: John S, Product ID: 201, Product Name: Hello Coding, Product Category: eLearning, Quantity: 2, Unit Price: $149, Total Price: $289, Transaction Date: 2030-01-02\"\n",
    "    },\n",
    "    {\n",
    "        \"example\":\n",
    "        \"Transaction ID: 1002, Customer ID: 502, Customer Name: Alice J, Product ID: 202, Product Name: Learn to Code, Category: eLearning, Quantity: 2, Unit Price: $149, Total Price: $289, Transaction Date: 2030-01-02\"\n",
    "    },\n",
    "    {\n",
    "        \"example\":\n",
    "        \"Transaction ID: 1003, Customer ID: 503, Customer Name: Bob T, Product ID: 201, Product Name: Hello Coding, Product Category: eLearning, Quantity: 2, Unit Price: $149, Total Price: $289, Transaction Date: 2030-01-02\"\n",
    "    }\n",
    "]"
   ],
   "id": "f27ed3eeddf1c650",
   "outputs": [],
   "execution_count": 11
  },
  {
   "metadata": {
    "ExecuteTime": {
     "end_time": "2025-08-10T13:05:52.699384Z",
     "start_time": "2025-08-10T13:05:52.696628Z"
    }
   },
   "cell_type": "code",
   "source": "print(sample_data)",
   "id": "373afd859e9898dc",
   "outputs": [
    {
     "name": "stdout",
     "output_type": "stream",
     "text": [
      "[{'example': 'Transaction ID: 1001, Customer ID: 501, Customer Name: John S, Product ID: 201, Product Name: Hello Coding, Product Category: eLearning, Quantity: 2, Unit Price: $149, Total Price: $289, Transaction Date: 2030-01-02'}, {'example': 'Transaction ID: 1002, Customer ID: 502, Customer Name: Alice J, Product ID: 202, Product Name: Learn to Code, Category: eLearning, Quantity: 2, Unit Price: $149, Total Price: $289, Transaction Date: 2030-01-02'}, {'example': 'Transaction ID: 1003, Customer ID: 503, Customer Name: Bob T, Product ID: 201, Product Name: Hello Coding, Product Category: eLearning, Quantity: 2, Unit Price: $149, Total Price: $289, Transaction Date: 2030-01-02'}]\n"
     ]
    }
   ],
   "execution_count": 12
  },
  {
   "metadata": {
    "ExecuteTime": {
     "end_time": "2025-08-10T14:33:25.784368Z",
     "start_time": "2025-08-10T14:33:25.781286Z"
    }
   },
   "cell_type": "code",
   "source": [
    "from langchain_core.prompts import PromptTemplate\n",
    "\n",
    "OPENAI_TEMPLATE = PromptTemplate(input_variables=[\"sample_data\"], template=\"{example}\")"
   ],
   "id": "50e46eb220dda2f7",
   "outputs": [],
   "execution_count": 30
  },
  {
   "metadata": {
    "ExecuteTime": {
     "end_time": "2025-08-10T14:33:33.679884Z",
     "start_time": "2025-08-10T14:33:33.676879Z"
    }
   },
   "cell_type": "code",
   "source": "print(OPENAI_TEMPLATE)",
   "id": "dffd288e32574d4e",
   "outputs": [
    {
     "name": "stdout",
     "output_type": "stream",
     "text": [
      "input_variables=['example'] template='{example}'\n"
     ]
    }
   ],
   "execution_count": 31
  },
  {
   "metadata": {
    "ExecuteTime": {
     "end_time": "2025-08-10T13:15:15.323578Z",
     "start_time": "2025-08-10T13:15:12.678980Z"
    }
   },
   "cell_type": "code",
   "source": "!pip install langchain_experimental==0.0.58",
   "id": "1ba18ead52d2c2f6",
   "outputs": [
    {
     "name": "stdout",
     "output_type": "stream",
     "text": [
      "Collecting langchain_experimental==0.0.58\n",
      "  Downloading langchain_experimental-0.0.58-py3-none-any.whl.metadata (2.1 kB)\n",
      "Requirement already satisfied: langchain<0.2.0,>=0.1.17 in c:\\users\\keaton naidoo\\pycharmprojects\\langchain-data-model-tutorial\\.venv\\lib\\site-packages (from langchain_experimental==0.0.58) (0.1.19)\n",
      "Requirement already satisfied: langchain-core<0.2.0,>=0.1.52 in c:\\users\\keaton naidoo\\pycharmprojects\\langchain-data-model-tutorial\\.venv\\lib\\site-packages (from langchain_experimental==0.0.58) (0.1.53)\n",
      "Requirement already satisfied: PyYAML>=5.3 in c:\\users\\keaton naidoo\\pycharmprojects\\langchain-data-model-tutorial\\.venv\\lib\\site-packages (from langchain<0.2.0,>=0.1.17->langchain_experimental==0.0.58) (6.0.2)\n",
      "Requirement already satisfied: SQLAlchemy<3,>=1.4 in c:\\users\\keaton naidoo\\pycharmprojects\\langchain-data-model-tutorial\\.venv\\lib\\site-packages (from langchain<0.2.0,>=0.1.17->langchain_experimental==0.0.58) (2.0.42)\n",
      "Requirement already satisfied: aiohttp<4.0.0,>=3.8.3 in c:\\users\\keaton naidoo\\pycharmprojects\\langchain-data-model-tutorial\\.venv\\lib\\site-packages (from langchain<0.2.0,>=0.1.17->langchain_experimental==0.0.58) (3.12.15)\n",
      "Requirement already satisfied: dataclasses-json<0.7,>=0.5.7 in c:\\users\\keaton naidoo\\pycharmprojects\\langchain-data-model-tutorial\\.venv\\lib\\site-packages (from langchain<0.2.0,>=0.1.17->langchain_experimental==0.0.58) (0.6.7)\n",
      "Requirement already satisfied: langchain-community<0.1,>=0.0.38 in c:\\users\\keaton naidoo\\pycharmprojects\\langchain-data-model-tutorial\\.venv\\lib\\site-packages (from langchain<0.2.0,>=0.1.17->langchain_experimental==0.0.58) (0.0.38)\n",
      "Requirement already satisfied: langchain-text-splitters<0.1,>=0.0.1 in c:\\users\\keaton naidoo\\pycharmprojects\\langchain-data-model-tutorial\\.venv\\lib\\site-packages (from langchain<0.2.0,>=0.1.17->langchain_experimental==0.0.58) (0.0.2)\n",
      "Requirement already satisfied: langsmith<0.2.0,>=0.1.17 in c:\\users\\keaton naidoo\\pycharmprojects\\langchain-data-model-tutorial\\.venv\\lib\\site-packages (from langchain<0.2.0,>=0.1.17->langchain_experimental==0.0.58) (0.1.147)\n",
      "Requirement already satisfied: numpy<2,>=1 in c:\\users\\keaton naidoo\\pycharmprojects\\langchain-data-model-tutorial\\.venv\\lib\\site-packages (from langchain<0.2.0,>=0.1.17->langchain_experimental==0.0.58) (1.26.4)\n",
      "Requirement already satisfied: pydantic<3,>=1 in c:\\users\\keaton naidoo\\pycharmprojects\\langchain-data-model-tutorial\\.venv\\lib\\site-packages (from langchain<0.2.0,>=0.1.17->langchain_experimental==0.0.58) (2.11.7)\n",
      "Requirement already satisfied: requests<3,>=2 in c:\\users\\keaton naidoo\\pycharmprojects\\langchain-data-model-tutorial\\.venv\\lib\\site-packages (from langchain<0.2.0,>=0.1.17->langchain_experimental==0.0.58) (2.32.4)\n",
      "Requirement already satisfied: tenacity<9.0.0,>=8.1.0 in c:\\users\\keaton naidoo\\pycharmprojects\\langchain-data-model-tutorial\\.venv\\lib\\site-packages (from langchain<0.2.0,>=0.1.17->langchain_experimental==0.0.58) (8.5.0)\n",
      "Requirement already satisfied: aiohappyeyeballs>=2.5.0 in c:\\users\\keaton naidoo\\pycharmprojects\\langchain-data-model-tutorial\\.venv\\lib\\site-packages (from aiohttp<4.0.0,>=3.8.3->langchain<0.2.0,>=0.1.17->langchain_experimental==0.0.58) (2.6.1)\n",
      "Requirement already satisfied: aiosignal>=1.4.0 in c:\\users\\keaton naidoo\\pycharmprojects\\langchain-data-model-tutorial\\.venv\\lib\\site-packages (from aiohttp<4.0.0,>=3.8.3->langchain<0.2.0,>=0.1.17->langchain_experimental==0.0.58) (1.4.0)\n",
      "Requirement already satisfied: attrs>=17.3.0 in c:\\users\\keaton naidoo\\pycharmprojects\\langchain-data-model-tutorial\\.venv\\lib\\site-packages (from aiohttp<4.0.0,>=3.8.3->langchain<0.2.0,>=0.1.17->langchain_experimental==0.0.58) (25.3.0)\n",
      "Requirement already satisfied: frozenlist>=1.1.1 in c:\\users\\keaton naidoo\\pycharmprojects\\langchain-data-model-tutorial\\.venv\\lib\\site-packages (from aiohttp<4.0.0,>=3.8.3->langchain<0.2.0,>=0.1.17->langchain_experimental==0.0.58) (1.7.0)\n",
      "Requirement already satisfied: multidict<7.0,>=4.5 in c:\\users\\keaton naidoo\\pycharmprojects\\langchain-data-model-tutorial\\.venv\\lib\\site-packages (from aiohttp<4.0.0,>=3.8.3->langchain<0.2.0,>=0.1.17->langchain_experimental==0.0.58) (6.6.3)\n",
      "Requirement already satisfied: propcache>=0.2.0 in c:\\users\\keaton naidoo\\pycharmprojects\\langchain-data-model-tutorial\\.venv\\lib\\site-packages (from aiohttp<4.0.0,>=3.8.3->langchain<0.2.0,>=0.1.17->langchain_experimental==0.0.58) (0.3.2)\n",
      "Requirement already satisfied: yarl<2.0,>=1.17.0 in c:\\users\\keaton naidoo\\pycharmprojects\\langchain-data-model-tutorial\\.venv\\lib\\site-packages (from aiohttp<4.0.0,>=3.8.3->langchain<0.2.0,>=0.1.17->langchain_experimental==0.0.58) (1.20.1)\n",
      "Requirement already satisfied: marshmallow<4.0.0,>=3.18.0 in c:\\users\\keaton naidoo\\pycharmprojects\\langchain-data-model-tutorial\\.venv\\lib\\site-packages (from dataclasses-json<0.7,>=0.5.7->langchain<0.2.0,>=0.1.17->langchain_experimental==0.0.58) (3.26.1)\n",
      "Requirement already satisfied: typing-inspect<1,>=0.4.0 in c:\\users\\keaton naidoo\\pycharmprojects\\langchain-data-model-tutorial\\.venv\\lib\\site-packages (from dataclasses-json<0.7,>=0.5.7->langchain<0.2.0,>=0.1.17->langchain_experimental==0.0.58) (0.9.0)\n",
      "Requirement already satisfied: jsonpatch<2.0,>=1.33 in c:\\users\\keaton naidoo\\pycharmprojects\\langchain-data-model-tutorial\\.venv\\lib\\site-packages (from langchain-core<0.2.0,>=0.1.52->langchain_experimental==0.0.58) (1.33)\n",
      "Requirement already satisfied: packaging<24.0,>=23.2 in c:\\users\\keaton naidoo\\pycharmprojects\\langchain-data-model-tutorial\\.venv\\lib\\site-packages (from langchain-core<0.2.0,>=0.1.52->langchain_experimental==0.0.58) (23.2)\n",
      "Requirement already satisfied: jsonpointer>=1.9 in c:\\users\\keaton naidoo\\pycharmprojects\\langchain-data-model-tutorial\\.venv\\lib\\site-packages (from jsonpatch<2.0,>=1.33->langchain-core<0.2.0,>=0.1.52->langchain_experimental==0.0.58) (3.0.0)\n",
      "Requirement already satisfied: httpx<1,>=0.23.0 in c:\\users\\keaton naidoo\\pycharmprojects\\langchain-data-model-tutorial\\.venv\\lib\\site-packages (from langsmith<0.2.0,>=0.1.17->langchain<0.2.0,>=0.1.17->langchain_experimental==0.0.58) (0.28.1)\n",
      "Requirement already satisfied: orjson<4.0.0,>=3.9.14 in c:\\users\\keaton naidoo\\pycharmprojects\\langchain-data-model-tutorial\\.venv\\lib\\site-packages (from langsmith<0.2.0,>=0.1.17->langchain<0.2.0,>=0.1.17->langchain_experimental==0.0.58) (3.11.1)\n",
      "Requirement already satisfied: requests-toolbelt<2.0.0,>=1.0.0 in c:\\users\\keaton naidoo\\pycharmprojects\\langchain-data-model-tutorial\\.venv\\lib\\site-packages (from langsmith<0.2.0,>=0.1.17->langchain<0.2.0,>=0.1.17->langchain_experimental==0.0.58) (1.0.0)\n",
      "Requirement already satisfied: anyio in c:\\users\\keaton naidoo\\pycharmprojects\\langchain-data-model-tutorial\\.venv\\lib\\site-packages (from httpx<1,>=0.23.0->langsmith<0.2.0,>=0.1.17->langchain<0.2.0,>=0.1.17->langchain_experimental==0.0.58) (4.10.0)\n",
      "Requirement already satisfied: certifi in c:\\users\\keaton naidoo\\pycharmprojects\\langchain-data-model-tutorial\\.venv\\lib\\site-packages (from httpx<1,>=0.23.0->langsmith<0.2.0,>=0.1.17->langchain<0.2.0,>=0.1.17->langchain_experimental==0.0.58) (2025.8.3)\n",
      "Requirement already satisfied: httpcore==1.* in c:\\users\\keaton naidoo\\pycharmprojects\\langchain-data-model-tutorial\\.venv\\lib\\site-packages (from httpx<1,>=0.23.0->langsmith<0.2.0,>=0.1.17->langchain<0.2.0,>=0.1.17->langchain_experimental==0.0.58) (1.0.9)\n",
      "Requirement already satisfied: idna in c:\\users\\keaton naidoo\\pycharmprojects\\langchain-data-model-tutorial\\.venv\\lib\\site-packages (from httpx<1,>=0.23.0->langsmith<0.2.0,>=0.1.17->langchain<0.2.0,>=0.1.17->langchain_experimental==0.0.58) (3.10)\n",
      "Requirement already satisfied: h11>=0.16 in c:\\users\\keaton naidoo\\pycharmprojects\\langchain-data-model-tutorial\\.venv\\lib\\site-packages (from httpcore==1.*->httpx<1,>=0.23.0->langsmith<0.2.0,>=0.1.17->langchain<0.2.0,>=0.1.17->langchain_experimental==0.0.58) (0.16.0)\n",
      "Requirement already satisfied: annotated-types>=0.6.0 in c:\\users\\keaton naidoo\\pycharmprojects\\langchain-data-model-tutorial\\.venv\\lib\\site-packages (from pydantic<3,>=1->langchain<0.2.0,>=0.1.17->langchain_experimental==0.0.58) (0.7.0)\n",
      "Requirement already satisfied: pydantic-core==2.33.2 in c:\\users\\keaton naidoo\\pycharmprojects\\langchain-data-model-tutorial\\.venv\\lib\\site-packages (from pydantic<3,>=1->langchain<0.2.0,>=0.1.17->langchain_experimental==0.0.58) (2.33.2)\n",
      "Requirement already satisfied: typing-extensions>=4.12.2 in c:\\users\\keaton naidoo\\pycharmprojects\\langchain-data-model-tutorial\\.venv\\lib\\site-packages (from pydantic<3,>=1->langchain<0.2.0,>=0.1.17->langchain_experimental==0.0.58) (4.14.1)\n",
      "Requirement already satisfied: typing-inspection>=0.4.0 in c:\\users\\keaton naidoo\\pycharmprojects\\langchain-data-model-tutorial\\.venv\\lib\\site-packages (from pydantic<3,>=1->langchain<0.2.0,>=0.1.17->langchain_experimental==0.0.58) (0.4.1)\n",
      "Requirement already satisfied: charset_normalizer<4,>=2 in c:\\users\\keaton naidoo\\pycharmprojects\\langchain-data-model-tutorial\\.venv\\lib\\site-packages (from requests<3,>=2->langchain<0.2.0,>=0.1.17->langchain_experimental==0.0.58) (3.4.3)\n",
      "Requirement already satisfied: urllib3<3,>=1.21.1 in c:\\users\\keaton naidoo\\pycharmprojects\\langchain-data-model-tutorial\\.venv\\lib\\site-packages (from requests<3,>=2->langchain<0.2.0,>=0.1.17->langchain_experimental==0.0.58) (2.5.0)\n",
      "Requirement already satisfied: greenlet>=1 in c:\\users\\keaton naidoo\\pycharmprojects\\langchain-data-model-tutorial\\.venv\\lib\\site-packages (from SQLAlchemy<3,>=1.4->langchain<0.2.0,>=0.1.17->langchain_experimental==0.0.58) (3.2.4)\n",
      "Requirement already satisfied: mypy-extensions>=0.3.0 in c:\\users\\keaton naidoo\\pycharmprojects\\langchain-data-model-tutorial\\.venv\\lib\\site-packages (from typing-inspect<1,>=0.4.0->dataclasses-json<0.7,>=0.5.7->langchain<0.2.0,>=0.1.17->langchain_experimental==0.0.58) (1.1.0)\n",
      "Requirement already satisfied: sniffio>=1.1 in c:\\users\\keaton naidoo\\pycharmprojects\\langchain-data-model-tutorial\\.venv\\lib\\site-packages (from anyio->httpx<1,>=0.23.0->langsmith<0.2.0,>=0.1.17->langchain<0.2.0,>=0.1.17->langchain_experimental==0.0.58) (1.3.1)\n",
      "Downloading langchain_experimental-0.0.58-py3-none-any.whl (199 kB)\n",
      "Installing collected packages: langchain_experimental\n",
      "Successfully installed langchain_experimental-0.0.58\n"
     ]
    }
   ],
   "execution_count": 16
  },
  {
   "metadata": {
    "ExecuteTime": {
     "end_time": "2025-08-10T14:33:46.771898Z",
     "start_time": "2025-08-10T14:33:46.768678Z"
    }
   },
   "cell_type": "code",
   "source": [
    "from langchain_experimental.tabular_synthetic_data.prompts import (\n",
    "    SYNTHETIC_FEW_SHOT_PREFIX,\n",
    "    SYNTHETIC_FEW_SHOT_SUFFIX\n",
    ")\n",
    "\n",
    "from langchain_core.prompts import FewShotPromptTemplate\n",
    "\n",
    "prompt_template = FewShotPromptTemplate(\n",
    "    prefix=SYNTHETIC_FEW_SHOT_PREFIX,\n",
    "    examples=sample_data,\n",
    "    suffix=SYNTHETIC_FEW_SHOT_SUFFIX,\n",
    "    input_variables=[\"subject\", \"extra\"],\n",
    "    example_prompt=OPENAI_TEMPLATE\n",
    ")"
   ],
   "id": "e0344dfc949b2568",
   "outputs": [],
   "execution_count": 32
  },
  {
   "metadata": {
    "ExecuteTime": {
     "end_time": "2025-08-10T14:39:28.337411Z",
     "start_time": "2025-08-10T14:39:28.334377Z"
    }
   },
   "cell_type": "code",
   "source": "print(prompt_template)",
   "id": "3e9316b062f74a32",
   "outputs": [
    {
     "name": "stdout",
     "output_type": "stream",
     "text": [
      "input_variables=['extra', 'subject'] examples=[{'example': 'Transaction ID: 1001, Customer ID: 501, Customer Name: John S, Product ID: 201, Product Name: Hello Coding, Product Category: eLearning, Quantity: 2, Unit Price: $149, Total Price: $289, Transaction Date: 2030-01-02'}, {'example': 'Transaction ID: 1002, Customer ID: 502, Customer Name: Alice J, Product ID: 202, Product Name: Learn to Code, Category: eLearning, Quantity: 2, Unit Price: $149, Total Price: $289, Transaction Date: 2030-01-02'}, {'example': 'Transaction ID: 1003, Customer ID: 503, Customer Name: Bob T, Product ID: 201, Product Name: Hello Coding, Product Category: eLearning, Quantity: 2, Unit Price: $149, Total Price: $289, Transaction Date: 2030-01-02'}] example_prompt=PromptTemplate(input_variables=['example'], template='{example}') suffix='Now you generate synthetic data about {subject}. Make sure to {extra}:' prefix='This is a test about generating synthetic data about {subject}. Examples below:'\n"
     ]
    }
   ],
   "execution_count": 34
  },
  {
   "metadata": {
    "ExecuteTime": {
     "end_time": "2025-08-10T13:35:52.354234Z",
     "start_time": "2025-08-10T13:35:50.903301Z"
    }
   },
   "cell_type": "code",
   "source": "!pip install python-dotenv",
   "id": "f0af421854e56f",
   "outputs": [
    {
     "name": "stdout",
     "output_type": "stream",
     "text": [
      "Collecting python-dotenv\n",
      "  Using cached python_dotenv-1.1.1-py3-none-any.whl.metadata (24 kB)\n",
      "Using cached python_dotenv-1.1.1-py3-none-any.whl (20 kB)\n",
      "Installing collected packages: python-dotenv\n",
      "Successfully installed python-dotenv-1.1.1\n"
     ]
    }
   ],
   "execution_count": 22
  },
  {
   "metadata": {
    "ExecuteTime": {
     "end_time": "2025-08-10T13:39:25.405513Z",
     "start_time": "2025-08-10T13:39:25.401476Z"
    }
   },
   "cell_type": "code",
   "source": [
    "from dotenv import load_dotenv\n",
    "\n",
    "\n",
    "load_dotenv()"
   ],
   "id": "dff51183b290cac7",
   "outputs": [
    {
     "data": {
      "text/plain": [
       "True"
      ]
     },
     "execution_count": 25,
     "metadata": {},
     "output_type": "execute_result"
    }
   ],
   "execution_count": 25
  },
  {
   "metadata": {
    "ExecuteTime": {
     "end_time": "2025-08-10T13:39:16.537274Z",
     "start_time": "2025-08-10T13:39:12.409461Z"
    }
   },
   "cell_type": "code",
   "source": "!pip install langchain-openai==0.1.6",
   "id": "b617da8298701747",
   "outputs": [
    {
     "name": "stdout",
     "output_type": "stream",
     "text": [
      "Collecting langchain-openai==0.1.6\n",
      "  Using cached langchain_openai-0.1.6-py3-none-any.whl.metadata (2.5 kB)\n",
      "Requirement already satisfied: langchain-core<0.2.0,>=0.1.46 in c:\\users\\keaton naidoo\\pycharmprojects\\langchain-data-model-tutorial\\.venv\\lib\\site-packages (from langchain-openai==0.1.6) (0.1.53)\n",
      "Collecting openai<2.0.0,>=1.24.0 (from langchain-openai==0.1.6)\n",
      "  Downloading openai-1.99.6-py3-none-any.whl.metadata (29 kB)\n",
      "Collecting tiktoken<1,>=0.5.2 (from langchain-openai==0.1.6)\n",
      "  Using cached tiktoken-0.11.0-cp313-cp313-win_amd64.whl.metadata (6.9 kB)\n",
      "Requirement already satisfied: PyYAML>=5.3 in c:\\users\\keaton naidoo\\pycharmprojects\\langchain-data-model-tutorial\\.venv\\lib\\site-packages (from langchain-core<0.2.0,>=0.1.46->langchain-openai==0.1.6) (6.0.2)\n",
      "Requirement already satisfied: jsonpatch<2.0,>=1.33 in c:\\users\\keaton naidoo\\pycharmprojects\\langchain-data-model-tutorial\\.venv\\lib\\site-packages (from langchain-core<0.2.0,>=0.1.46->langchain-openai==0.1.6) (1.33)\n",
      "Requirement already satisfied: langsmith<0.2.0,>=0.1.0 in c:\\users\\keaton naidoo\\pycharmprojects\\langchain-data-model-tutorial\\.venv\\lib\\site-packages (from langchain-core<0.2.0,>=0.1.46->langchain-openai==0.1.6) (0.1.147)\n",
      "Requirement already satisfied: packaging<24.0,>=23.2 in c:\\users\\keaton naidoo\\pycharmprojects\\langchain-data-model-tutorial\\.venv\\lib\\site-packages (from langchain-core<0.2.0,>=0.1.46->langchain-openai==0.1.6) (23.2)\n",
      "Requirement already satisfied: pydantic<3,>=1 in c:\\users\\keaton naidoo\\pycharmprojects\\langchain-data-model-tutorial\\.venv\\lib\\site-packages (from langchain-core<0.2.0,>=0.1.46->langchain-openai==0.1.6) (2.11.7)\n",
      "Requirement already satisfied: tenacity<9.0.0,>=8.1.0 in c:\\users\\keaton naidoo\\pycharmprojects\\langchain-data-model-tutorial\\.venv\\lib\\site-packages (from langchain-core<0.2.0,>=0.1.46->langchain-openai==0.1.6) (8.5.0)\n",
      "Requirement already satisfied: jsonpointer>=1.9 in c:\\users\\keaton naidoo\\pycharmprojects\\langchain-data-model-tutorial\\.venv\\lib\\site-packages (from jsonpatch<2.0,>=1.33->langchain-core<0.2.0,>=0.1.46->langchain-openai==0.1.6) (3.0.0)\n",
      "Requirement already satisfied: httpx<1,>=0.23.0 in c:\\users\\keaton naidoo\\pycharmprojects\\langchain-data-model-tutorial\\.venv\\lib\\site-packages (from langsmith<0.2.0,>=0.1.0->langchain-core<0.2.0,>=0.1.46->langchain-openai==0.1.6) (0.28.1)\n",
      "Requirement already satisfied: orjson<4.0.0,>=3.9.14 in c:\\users\\keaton naidoo\\pycharmprojects\\langchain-data-model-tutorial\\.venv\\lib\\site-packages (from langsmith<0.2.0,>=0.1.0->langchain-core<0.2.0,>=0.1.46->langchain-openai==0.1.6) (3.11.1)\n",
      "Requirement already satisfied: requests<3,>=2 in c:\\users\\keaton naidoo\\pycharmprojects\\langchain-data-model-tutorial\\.venv\\lib\\site-packages (from langsmith<0.2.0,>=0.1.0->langchain-core<0.2.0,>=0.1.46->langchain-openai==0.1.6) (2.32.4)\n",
      "Requirement already satisfied: requests-toolbelt<2.0.0,>=1.0.0 in c:\\users\\keaton naidoo\\pycharmprojects\\langchain-data-model-tutorial\\.venv\\lib\\site-packages (from langsmith<0.2.0,>=0.1.0->langchain-core<0.2.0,>=0.1.46->langchain-openai==0.1.6) (1.0.0)\n",
      "Requirement already satisfied: anyio in c:\\users\\keaton naidoo\\pycharmprojects\\langchain-data-model-tutorial\\.venv\\lib\\site-packages (from httpx<1,>=0.23.0->langsmith<0.2.0,>=0.1.0->langchain-core<0.2.0,>=0.1.46->langchain-openai==0.1.6) (4.10.0)\n",
      "Requirement already satisfied: certifi in c:\\users\\keaton naidoo\\pycharmprojects\\langchain-data-model-tutorial\\.venv\\lib\\site-packages (from httpx<1,>=0.23.0->langsmith<0.2.0,>=0.1.0->langchain-core<0.2.0,>=0.1.46->langchain-openai==0.1.6) (2025.8.3)\n",
      "Requirement already satisfied: httpcore==1.* in c:\\users\\keaton naidoo\\pycharmprojects\\langchain-data-model-tutorial\\.venv\\lib\\site-packages (from httpx<1,>=0.23.0->langsmith<0.2.0,>=0.1.0->langchain-core<0.2.0,>=0.1.46->langchain-openai==0.1.6) (1.0.9)\n",
      "Requirement already satisfied: idna in c:\\users\\keaton naidoo\\pycharmprojects\\langchain-data-model-tutorial\\.venv\\lib\\site-packages (from httpx<1,>=0.23.0->langsmith<0.2.0,>=0.1.0->langchain-core<0.2.0,>=0.1.46->langchain-openai==0.1.6) (3.10)\n",
      "Requirement already satisfied: h11>=0.16 in c:\\users\\keaton naidoo\\pycharmprojects\\langchain-data-model-tutorial\\.venv\\lib\\site-packages (from httpcore==1.*->httpx<1,>=0.23.0->langsmith<0.2.0,>=0.1.0->langchain-core<0.2.0,>=0.1.46->langchain-openai==0.1.6) (0.16.0)\n",
      "Collecting distro<2,>=1.7.0 (from openai<2.0.0,>=1.24.0->langchain-openai==0.1.6)\n",
      "  Using cached distro-1.9.0-py3-none-any.whl.metadata (6.8 kB)\n",
      "Collecting jiter<1,>=0.4.0 (from openai<2.0.0,>=1.24.0->langchain-openai==0.1.6)\n",
      "  Using cached jiter-0.10.0-cp313-cp313-win_amd64.whl.metadata (5.3 kB)\n",
      "Requirement already satisfied: sniffio in c:\\users\\keaton naidoo\\pycharmprojects\\langchain-data-model-tutorial\\.venv\\lib\\site-packages (from openai<2.0.0,>=1.24.0->langchain-openai==0.1.6) (1.3.1)\n",
      "Collecting tqdm>4 (from openai<2.0.0,>=1.24.0->langchain-openai==0.1.6)\n",
      "  Using cached tqdm-4.67.1-py3-none-any.whl.metadata (57 kB)\n",
      "Requirement already satisfied: typing-extensions<5,>=4.11 in c:\\users\\keaton naidoo\\pycharmprojects\\langchain-data-model-tutorial\\.venv\\lib\\site-packages (from openai<2.0.0,>=1.24.0->langchain-openai==0.1.6) (4.14.1)\n",
      "Requirement already satisfied: annotated-types>=0.6.0 in c:\\users\\keaton naidoo\\pycharmprojects\\langchain-data-model-tutorial\\.venv\\lib\\site-packages (from pydantic<3,>=1->langchain-core<0.2.0,>=0.1.46->langchain-openai==0.1.6) (0.7.0)\n",
      "Requirement already satisfied: pydantic-core==2.33.2 in c:\\users\\keaton naidoo\\pycharmprojects\\langchain-data-model-tutorial\\.venv\\lib\\site-packages (from pydantic<3,>=1->langchain-core<0.2.0,>=0.1.46->langchain-openai==0.1.6) (2.33.2)\n",
      "Requirement already satisfied: typing-inspection>=0.4.0 in c:\\users\\keaton naidoo\\pycharmprojects\\langchain-data-model-tutorial\\.venv\\lib\\site-packages (from pydantic<3,>=1->langchain-core<0.2.0,>=0.1.46->langchain-openai==0.1.6) (0.4.1)\n",
      "Requirement already satisfied: charset_normalizer<4,>=2 in c:\\users\\keaton naidoo\\pycharmprojects\\langchain-data-model-tutorial\\.venv\\lib\\site-packages (from requests<3,>=2->langsmith<0.2.0,>=0.1.0->langchain-core<0.2.0,>=0.1.46->langchain-openai==0.1.6) (3.4.3)\n",
      "Requirement already satisfied: urllib3<3,>=1.21.1 in c:\\users\\keaton naidoo\\pycharmprojects\\langchain-data-model-tutorial\\.venv\\lib\\site-packages (from requests<3,>=2->langsmith<0.2.0,>=0.1.0->langchain-core<0.2.0,>=0.1.46->langchain-openai==0.1.6) (2.5.0)\n",
      "Collecting regex>=2022.1.18 (from tiktoken<1,>=0.5.2->langchain-openai==0.1.6)\n",
      "  Using cached regex-2025.7.34-cp313-cp313-win_amd64.whl.metadata (41 kB)\n",
      "Requirement already satisfied: colorama in c:\\users\\keaton naidoo\\pycharmprojects\\langchain-data-model-tutorial\\.venv\\lib\\site-packages (from tqdm>4->openai<2.0.0,>=1.24.0->langchain-openai==0.1.6) (0.4.6)\n",
      "Using cached langchain_openai-0.1.6-py3-none-any.whl (34 kB)\n",
      "Downloading openai-1.99.6-py3-none-any.whl (786 kB)\n",
      "   ---------------------------------------- 0.0/786.3 kB ? eta -:--:--\n",
      "   -------------------------- ------------- 524.3/786.3 kB 2.7 MB/s eta 0:00:01\n",
      "   ---------------------------------------- 786.3/786.3 kB 2.7 MB/s  0:00:00\n",
      "Using cached distro-1.9.0-py3-none-any.whl (20 kB)\n",
      "Using cached jiter-0.10.0-cp313-cp313-win_amd64.whl (205 kB)\n",
      "Using cached tiktoken-0.11.0-cp313-cp313-win_amd64.whl (883 kB)\n",
      "Using cached regex-2025.7.34-cp313-cp313-win_amd64.whl (275 kB)\n",
      "Using cached tqdm-4.67.1-py3-none-any.whl (78 kB)\n",
      "Installing collected packages: tqdm, regex, jiter, distro, tiktoken, openai, langchain-openai\n",
      "\n",
      "   ----------- ---------------------------- 2/7 [jiter]\n",
      "   ---------------------------- ----------- 5/7 [openai]\n",
      "   ---------------------------- ----------- 5/7 [openai]\n",
      "   ---------------------------- ----------- 5/7 [openai]\n",
      "   ---------------------------- ----------- 5/7 [openai]\n",
      "   ---------------------------- ----------- 5/7 [openai]\n",
      "   ---------------------------- ----------- 5/7 [openai]\n",
      "   ---------------------------- ----------- 5/7 [openai]\n",
      "   ---------------------------- ----------- 5/7 [openai]\n",
      "   ---------------------------------------- 7/7 [langchain-openai]\n",
      "\n",
      "Successfully installed distro-1.9.0 jiter-0.10.0 langchain-openai-0.1.6 openai-1.99.6 regex-2025.7.34 tiktoken-0.11.0 tqdm-4.67.1\n"
     ]
    }
   ],
   "execution_count": 24
  },
  {
   "metadata": {
    "ExecuteTime": {
     "end_time": "2025-08-10T14:39:34.220340Z",
     "start_time": "2025-08-10T14:39:33.731964Z"
    }
   },
   "cell_type": "code",
   "source": [
    "from langchain_experimental.tabular_synthetic_data.openai import create_openai_data_generator\n",
    "from langchain_openai import ChatOpenAI\n",
    "\n",
    "generator = create_openai_data_generator(\n",
    "    output_schema=SalesTransaction,\n",
    "    llm=ChatOpenAI(),\n",
    "    prompt=prompt_template\n",
    ")"
   ],
   "id": "dd80cc252011cb9f",
   "outputs": [],
   "execution_count": 35
  },
  {
   "metadata": {
    "ExecuteTime": {
     "end_time": "2025-08-10T14:39:35.654177Z",
     "start_time": "2025-08-10T14:39:35.650780Z"
    }
   },
   "cell_type": "code",
   "source": "print(generator)",
   "id": "78d1e4b2eb678933",
   "outputs": [
    {
     "name": "stdout",
     "output_type": "stream",
     "text": [
      "template=FewShotPromptTemplate(input_variables=['extra', 'subject'], examples=[{'example': 'Transaction ID: 1001, Customer ID: 501, Customer Name: John S, Product ID: 201, Product Name: Hello Coding, Product Category: eLearning, Quantity: 2, Unit Price: $149, Total Price: $289, Transaction Date: 2030-01-02'}, {'example': 'Transaction ID: 1002, Customer ID: 502, Customer Name: Alice J, Product ID: 202, Product Name: Learn to Code, Category: eLearning, Quantity: 2, Unit Price: $149, Total Price: $289, Transaction Date: 2030-01-02'}, {'example': 'Transaction ID: 1003, Customer ID: 503, Customer Name: Bob T, Product ID: 201, Product Name: Hello Coding, Product Category: eLearning, Quantity: 2, Unit Price: $149, Total Price: $289, Transaction Date: 2030-01-02'}], example_prompt=PromptTemplate(input_variables=['example'], template='{example}'), suffix='Now you generate synthetic data about {subject}. Make sure to {extra}:', prefix='This is a test about generating synthetic data about {subject}. Examples below:') llm=None results=[] llm_chain=LLMChain(prompt=FewShotPromptTemplate(input_variables=['extra', 'subject'], examples=[{'example': 'Transaction ID: 1001, Customer ID: 501, Customer Name: John S, Product ID: 201, Product Name: Hello Coding, Product Category: eLearning, Quantity: 2, Unit Price: $149, Total Price: $289, Transaction Date: 2030-01-02'}, {'example': 'Transaction ID: 1002, Customer ID: 502, Customer Name: Alice J, Product ID: 202, Product Name: Learn to Code, Category: eLearning, Quantity: 2, Unit Price: $149, Total Price: $289, Transaction Date: 2030-01-02'}, {'example': 'Transaction ID: 1003, Customer ID: 503, Customer Name: Bob T, Product ID: 201, Product Name: Hello Coding, Product Category: eLearning, Quantity: 2, Unit Price: $149, Total Price: $289, Transaction Date: 2030-01-02'}], example_prompt=PromptTemplate(input_variables=['example'], template='{example}'), suffix='Now you generate synthetic data about {subject}. Make sure to {extra}:', prefix='This is a test about generating synthetic data about {subject}. Examples below:'), llm=ChatOpenAI(client=<openai.resources.chat.completions.completions.Completions object at 0x00000186D7147750>, async_client=<openai.resources.chat.completions.completions.AsyncCompletions object at 0x00000186D724C190>, openai_api_key=SecretStr('**********'), openai_proxy=''), output_key='function', output_parser=PydanticAttrOutputFunctionsParser(pydantic_schema=<class 'langchain.chains.openai_functions.base.create_structured_output_chain.<locals>._OutputFormatter'>, attr_name='output'), llm_kwargs={'functions': [{'name': '_OutputFormatter', 'description': 'Output formatter. Should always be used to format your response to the user.', 'parameters': {'type': 'object', 'properties': {'output': {'type': 'object', 'properties': {'transaction_id': {'type': 'integer'}, 'customer_id': {'type': 'integer'}, 'customer_name': {'type': 'string'}, 'product_id': {'type': 'integer'}, 'product_name': {'type': 'string'}, 'product_category': {'type': 'string'}, 'quantity': {'type': 'integer'}, 'unit_price': {'type': 'number'}, 'total_price': {'type': 'number'}, 'transaction_date': {'type': 'string'}}, 'required': ['transaction_id', 'customer_id', 'customer_name', 'product_id', 'product_name', 'product_category', 'quantity', 'unit_price', 'total_price', 'transaction_date']}}, 'required': ['output']}}], 'function_call': {'name': '_OutputFormatter'}}) example_input_key='example'\n"
     ]
    }
   ],
   "execution_count": 36
  },
  {
   "metadata": {
    "ExecuteTime": {
     "end_time": "2025-08-10T15:16:40.788437Z",
     "start_time": "2025-08-10T15:16:15.721707Z"
    }
   },
   "cell_type": "code",
   "source": [
    "results = generator.generate(\n",
    "    subject=\"transactions\",\n",
    "    extra=\"Choose all values at random, not what you usually choose.\",\n",
    "    runs=20\n",
    ")"
   ],
   "id": "49e19d8200b03f89",
   "outputs": [],
   "execution_count": 65
  },
  {
   "metadata": {
    "ExecuteTime": {
     "end_time": "2025-08-10T15:16:53.953993Z",
     "start_time": "2025-08-10T15:16:53.950854Z"
    }
   },
   "cell_type": "code",
   "source": "print(results)",
   "id": "4343cb11b4005dae",
   "outputs": [
    {
     "name": "stdout",
     "output_type": "stream",
     "text": [
      "[SalesTransaction(transaction_id=1004, customer_id=504, customer_name='Emma L', product_id=203, product_name='Web Development Masterclass', product_category='eLearning', quantity=1, unit_price=99.0, total_price=99.0, transaction_date='2030-01-03'), SalesTransaction(transaction_id=2001, customer_id=601, customer_name='Charlie M', product_id=205, product_name='Data Science Essentials', product_category='eLearning', quantity=3, unit_price=129.99, total_price=389.97, transaction_date='2030-01-04'), SalesTransaction(transaction_id=3001, customer_id=702, customer_name='Alice J', product_id=301, product_name='Graphic Design Basics', product_category='eLearning', quantity=2, unit_price=79.99, total_price=159.98, transaction_date='2030-01-05'), SalesTransaction(transaction_id=5001, customer_id=805, customer_name='Oliver B', product_id=402, product_name='Python Programming for Beginners', product_category='eLearning', quantity=4, unit_price=49.99, total_price=199.96, transaction_date='2030-01-06'), SalesTransaction(transaction_id=4002, customer_id=903, customer_name='Sophia K', product_id=107, product_name='Web Development Masterclass', product_category='eLearning', quantity=5, unit_price=89.99, total_price=449.95, transaction_date='2030-01-07'), SalesTransaction(transaction_id=7001, customer_id=921, customer_name='Ethan M', product_id=501, product_name='Digital Marketing Strategies', product_category='eLearning', quantity=3, unit_price=69.99, total_price=209.97, transaction_date='2030-01-08'), SalesTransaction(transaction_id=6003, customer_id=712, customer_name='Ava S', product_id=205, product_name='Machine Learning Fundamentals', product_category='eLearning', quantity=6, unit_price=79.99, total_price=479.94, transaction_date='2030-01-09'), SalesTransaction(transaction_id=9001, customer_id=120, customer_name='Oliver L', product_id=305, product_name='Data Science Essentials', product_category='eLearning', quantity=4, unit_price=99.99, total_price=399.96, transaction_date='2030-01-10'), SalesTransaction(transaction_id=9876, customer_id=543, customer_name='Sophie R', product_id=777, product_name='Web Development Masterclass', product_category='eLearning', quantity=5, unit_price=59.99, total_price=299.95, transaction_date='2030-01-11'), SalesTransaction(transaction_id=1234, customer_id=456, customer_name='Emily K', product_id=789, product_name='Artificial Intelligence Basics', product_category='eLearning', quantity=3, unit_price=69.99, total_price=209.97, transaction_date='2030-01-15'), SalesTransaction(transaction_id=5555, customer_id=789, customer_name='Ethan M', product_id=456, product_name='Machine Learning Fundamentals', product_category='eLearning', quantity=2, unit_price=49.99, total_price=99.98, transaction_date='2030-01-20'), SalesTransaction(transaction_id=6543, customer_id=321, customer_name='Olivia L', product_id=987, product_name='Data Visualization Essentials', product_category='eLearning', quantity=4, unit_price=39.99, total_price=159.96, transaction_date='2030-02-05'), SalesTransaction(transaction_id=9876, customer_id=654, customer_name='Liam S', product_id=321, product_name='Python Programming for Beginners', product_category='eLearning', quantity=5, unit_price=59.99, total_price=299.95, transaction_date='2030-02-18'), SalesTransaction(transaction_id=1234, customer_id=456, customer_name='Sophia R', product_id=789, product_name='Web Development Crash Course', product_category='eLearning', quantity=3, unit_price=29.99, total_price=89.97, transaction_date='2030-03-10'), SalesTransaction(transaction_id=8765, customer_id=789, customer_name='Aiden M', product_id=654, product_name='Machine Learning Fundamentals', product_category='eLearning', quantity=2, unit_price=49.99, total_price=99.98, transaction_date='2030-04-25'), SalesTransaction(transaction_id=4567, customer_id=234, customer_name='Olivia H', product_id=987, product_name='Data Science Essentials', product_category='eLearning', quantity=4, unit_price=39.99, total_price=159.96, transaction_date='2030-05-15'), SalesTransaction(transaction_id=9876, customer_id=654, customer_name='Liam S', product_id=321, product_name='Python Programming Basics', product_category='eLearning', quantity=5, unit_price=19.99, total_price=99.95, transaction_date='2030-06-20'), SalesTransaction(transaction_id=1234, customer_id=456, customer_name='Sophia R', product_id=789, product_name='Web Development Crash Course', product_category='eLearning', quantity=3, unit_price=29.99, total_price=89.97, transaction_date='2030-07-10'), SalesTransaction(transaction_id=8732, customer_id=567, customer_name='Ethan M', product_id=654, product_name='Machine Learning Fundamentals', product_category='eLearning', quantity=2, unit_price=49.99, total_price=99.98, transaction_date='2031-08-25'), SalesTransaction(transaction_id=3456, customer_id=789, customer_name='Olivia K', product_id=456, product_name='Data Science Essentials', product_category='eLearning', quantity=4, unit_price=39.99, total_price=159.96, transaction_date='2032-04-15')]\n"
     ]
    }
   ],
   "execution_count": 66
  },
  {
   "metadata": {
    "ExecuteTime": {
     "end_time": "2025-08-10T15:17:03.417493Z",
     "start_time": "2025-08-10T15:17:03.413342Z"
    }
   },
   "cell_type": "code",
   "source": [
    "import csv\n",
    "\n",
    "\n",
    "filename = \"generated_data.csv\"\n",
    "\n",
    "with open(filename, mode=\"w\", newline=\"\") as file:\n",
    "    writer = csv.writer(file)\n",
    "    writer.writerow([\n",
    "        \"TransactionID\",\n",
    "        \"CustomerID\",\n",
    "        \"CustomerName\",\n",
    "        \"ProductID\",\n",
    "        \"ProductName\",\n",
    "        \"ProductCategory\",\n",
    "        \"Quantity\",\n",
    "        \"UnitPrice\",\n",
    "        \"TotalPrice\",\n",
    "        \"TransactionDate\"\n",
    "    ])\n",
    "\n",
    "    for transaction in results:\n",
    "        writer.writerow([values[1] for values in [*transaction]])\n"
   ],
   "id": "f5e9061af9fef1d0",
   "outputs": [],
   "execution_count": 67
  },
  {
   "metadata": {
    "ExecuteTime": {
     "end_time": "2025-08-10T15:17:05.578608Z",
     "start_time": "2025-08-10T15:17:05.570960Z"
    }
   },
   "cell_type": "code",
   "source": [
    "import pandas\n",
    "\n",
    "\n",
    "data = pandas.read_csv(filename)\n",
    "print(data)"
   ],
   "id": "57f5c3dde5a5b8c6",
   "outputs": [
    {
     "name": "stdout",
     "output_type": "stream",
     "text": [
      "    TransactionID  CustomerID CustomerName  ProductID  \\\n",
      "0            1004         504       Emma L        203   \n",
      "1            2001         601    Charlie M        205   \n",
      "2            3001         702      Alice J        301   \n",
      "3            5001         805     Oliver B        402   \n",
      "4            4002         903     Sophia K        107   \n",
      "5            7001         921      Ethan M        501   \n",
      "6            6003         712        Ava S        205   \n",
      "7            9001         120     Oliver L        305   \n",
      "8            9876         543     Sophie R        777   \n",
      "9            1234         456      Emily K        789   \n",
      "10           5555         789      Ethan M        456   \n",
      "11           6543         321     Olivia L        987   \n",
      "12           9876         654       Liam S        321   \n",
      "13           1234         456     Sophia R        789   \n",
      "14           8765         789      Aiden M        654   \n",
      "15           4567         234     Olivia H        987   \n",
      "16           9876         654       Liam S        321   \n",
      "17           1234         456     Sophia R        789   \n",
      "18           8732         567      Ethan M        654   \n",
      "19           3456         789     Olivia K        456   \n",
      "\n",
      "                         ProductName ProductCategory  Quantity  UnitPrice  \\\n",
      "0        Web Development Masterclass       eLearning         1      99.00   \n",
      "1            Data Science Essentials       eLearning         3     129.99   \n",
      "2              Graphic Design Basics       eLearning         2      79.99   \n",
      "3   Python Programming for Beginners       eLearning         4      49.99   \n",
      "4        Web Development Masterclass       eLearning         5      89.99   \n",
      "5       Digital Marketing Strategies       eLearning         3      69.99   \n",
      "6      Machine Learning Fundamentals       eLearning         6      79.99   \n",
      "7            Data Science Essentials       eLearning         4      99.99   \n",
      "8        Web Development Masterclass       eLearning         5      59.99   \n",
      "9     Artificial Intelligence Basics       eLearning         3      69.99   \n",
      "10     Machine Learning Fundamentals       eLearning         2      49.99   \n",
      "11     Data Visualization Essentials       eLearning         4      39.99   \n",
      "12  Python Programming for Beginners       eLearning         5      59.99   \n",
      "13      Web Development Crash Course       eLearning         3      29.99   \n",
      "14     Machine Learning Fundamentals       eLearning         2      49.99   \n",
      "15           Data Science Essentials       eLearning         4      39.99   \n",
      "16         Python Programming Basics       eLearning         5      19.99   \n",
      "17      Web Development Crash Course       eLearning         3      29.99   \n",
      "18     Machine Learning Fundamentals       eLearning         2      49.99   \n",
      "19           Data Science Essentials       eLearning         4      39.99   \n",
      "\n",
      "    TotalPrice TransactionDate  \n",
      "0        99.00      2030-01-03  \n",
      "1       389.97      2030-01-04  \n",
      "2       159.98      2030-01-05  \n",
      "3       199.96      2030-01-06  \n",
      "4       449.95      2030-01-07  \n",
      "5       209.97      2030-01-08  \n",
      "6       479.94      2030-01-09  \n",
      "7       399.96      2030-01-10  \n",
      "8       299.95      2030-01-11  \n",
      "9       209.97      2030-01-15  \n",
      "10       99.98      2030-01-20  \n",
      "11      159.96      2030-02-05  \n",
      "12      299.95      2030-02-18  \n",
      "13       89.97      2030-03-10  \n",
      "14       99.98      2030-04-25  \n",
      "15      159.96      2030-05-15  \n",
      "16       99.95      2030-06-20  \n",
      "17       89.97      2030-07-10  \n",
      "18       99.98      2031-08-25  \n",
      "19      159.96      2032-04-15  \n"
     ]
    }
   ],
   "execution_count": 68
  },
  {
   "metadata": {
    "ExecuteTime": {
     "end_time": "2025-08-10T15:17:10.302125Z",
     "start_time": "2025-08-10T15:17:10.295855Z"
    }
   },
   "cell_type": "code",
   "source": "print(data.info)",
   "id": "8a9583d3ecc60a26",
   "outputs": [
    {
     "name": "stdout",
     "output_type": "stream",
     "text": [
      "<bound method DataFrame.info of     TransactionID  CustomerID CustomerName  ProductID  \\\n",
      "0            1004         504       Emma L        203   \n",
      "1            2001         601    Charlie M        205   \n",
      "2            3001         702      Alice J        301   \n",
      "3            5001         805     Oliver B        402   \n",
      "4            4002         903     Sophia K        107   \n",
      "5            7001         921      Ethan M        501   \n",
      "6            6003         712        Ava S        205   \n",
      "7            9001         120     Oliver L        305   \n",
      "8            9876         543     Sophie R        777   \n",
      "9            1234         456      Emily K        789   \n",
      "10           5555         789      Ethan M        456   \n",
      "11           6543         321     Olivia L        987   \n",
      "12           9876         654       Liam S        321   \n",
      "13           1234         456     Sophia R        789   \n",
      "14           8765         789      Aiden M        654   \n",
      "15           4567         234     Olivia H        987   \n",
      "16           9876         654       Liam S        321   \n",
      "17           1234         456     Sophia R        789   \n",
      "18           8732         567      Ethan M        654   \n",
      "19           3456         789     Olivia K        456   \n",
      "\n",
      "                         ProductName ProductCategory  Quantity  UnitPrice  \\\n",
      "0        Web Development Masterclass       eLearning         1      99.00   \n",
      "1            Data Science Essentials       eLearning         3     129.99   \n",
      "2              Graphic Design Basics       eLearning         2      79.99   \n",
      "3   Python Programming for Beginners       eLearning         4      49.99   \n",
      "4        Web Development Masterclass       eLearning         5      89.99   \n",
      "5       Digital Marketing Strategies       eLearning         3      69.99   \n",
      "6      Machine Learning Fundamentals       eLearning         6      79.99   \n",
      "7            Data Science Essentials       eLearning         4      99.99   \n",
      "8        Web Development Masterclass       eLearning         5      59.99   \n",
      "9     Artificial Intelligence Basics       eLearning         3      69.99   \n",
      "10     Machine Learning Fundamentals       eLearning         2      49.99   \n",
      "11     Data Visualization Essentials       eLearning         4      39.99   \n",
      "12  Python Programming for Beginners       eLearning         5      59.99   \n",
      "13      Web Development Crash Course       eLearning         3      29.99   \n",
      "14     Machine Learning Fundamentals       eLearning         2      49.99   \n",
      "15           Data Science Essentials       eLearning         4      39.99   \n",
      "16         Python Programming Basics       eLearning         5      19.99   \n",
      "17      Web Development Crash Course       eLearning         3      29.99   \n",
      "18     Machine Learning Fundamentals       eLearning         2      49.99   \n",
      "19           Data Science Essentials       eLearning         4      39.99   \n",
      "\n",
      "    TotalPrice TransactionDate  \n",
      "0        99.00      2030-01-03  \n",
      "1       389.97      2030-01-04  \n",
      "2       159.98      2030-01-05  \n",
      "3       199.96      2030-01-06  \n",
      "4       449.95      2030-01-07  \n",
      "5       209.97      2030-01-08  \n",
      "6       479.94      2030-01-09  \n",
      "7       399.96      2030-01-10  \n",
      "8       299.95      2030-01-11  \n",
      "9       209.97      2030-01-15  \n",
      "10       99.98      2030-01-20  \n",
      "11      159.96      2030-02-05  \n",
      "12      299.95      2030-02-18  \n",
      "13       89.97      2030-03-10  \n",
      "14       99.98      2030-04-25  \n",
      "15      159.96      2030-05-15  \n",
      "16       99.95      2030-06-20  \n",
      "17       89.97      2030-07-10  \n",
      "18       99.98      2031-08-25  \n",
      "19      159.96      2032-04-15  >\n"
     ]
    }
   ],
   "execution_count": 69
  },
  {
   "metadata": {
    "ExecuteTime": {
     "end_time": "2025-08-10T15:17:11.798689Z",
     "start_time": "2025-08-10T15:17:11.786925Z"
    }
   },
   "cell_type": "code",
   "source": "print(data.describe())",
   "id": "c4dc23d491db373e",
   "outputs": [
    {
     "name": "stdout",
     "output_type": "stream",
     "text": [
      "       TransactionID  CustomerID   ProductID   Quantity   UnitPrice  \\\n",
      "count      20.000000   20.000000   20.000000  20.000000   20.000000   \n",
      "mean     5398.100000  598.800000  510.450000   3.500000   61.940500   \n",
      "std      3203.945806  216.521447  273.262063   1.317893   27.952677   \n",
      "min      1004.000000  120.000000  107.000000   1.000000   19.990000   \n",
      "25%      2751.000000  456.000000  304.000000   2.750000   39.990000   \n",
      "50%      5278.000000  627.500000  456.000000   3.500000   54.990000   \n",
      "75%      8740.250000  789.000000  780.000000   4.250000   79.990000   \n",
      "max      9876.000000  921.000000  987.000000   6.000000  129.990000   \n",
      "\n",
      "       TotalPrice  \n",
      "count   20.000000  \n",
      "mean   212.915500  \n",
      "std    128.678307  \n",
      "min     89.970000  \n",
      "25%     99.980000  \n",
      "50%    159.970000  \n",
      "75%    299.950000  \n",
      "max    479.940000  \n"
     ]
    }
   ],
   "execution_count": 70
  },
  {
   "metadata": {},
   "cell_type": "code",
   "outputs": [],
   "execution_count": null,
   "source": "",
   "id": "31aa28230cb122e0"
  }
 ],
 "metadata": {
  "kernelspec": {
   "display_name": "Python 3",
   "language": "python",
   "name": "python3"
  },
  "language_info": {
   "codemirror_mode": {
    "name": "ipython",
    "version": 2
   },
   "file_extension": ".py",
   "mimetype": "text/x-python",
   "name": "python",
   "nbconvert_exporter": "python",
   "pygments_lexer": "ipython2",
   "version": "2.7.6"
  }
 },
 "nbformat": 4,
 "nbformat_minor": 5
}
